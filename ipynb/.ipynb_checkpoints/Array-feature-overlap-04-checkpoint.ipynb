{
 "cells": [
  {
   "cell_type": "markdown",
   "metadata": {},
   "source": [
    "# Intersect bed on gene-centric features"
   ]
  },
  {
   "cell_type": "code",
   "execution_count": 3,
   "metadata": {
    "collapsed": false
   },
   "outputs": [
    {
     "name": "stdout",
     "output_type": "stream",
     "text": [
      "Fri Mar 13 08:02:12 PDT 2015\r\n"
     ]
    }
   ],
   "source": [
    "!date"
   ]
  },
  {
   "cell_type": "markdown",
   "metadata": {},
   "source": [
    "Feature (from nb -03)    \n",
    "\n",
    "**tldr** 4 \"new\" tracks\n",
    "<img src=\"http://eagle.fish.washington.edu/cnidarian/skitch/IGV_and_Directory_Listing_of__halfshell_2015-02-hs-bedgraph__1AA51F1B.png\" width =100% alt=\"IGV_and_Directory_Listing_of__halfshell_2015-02-hs-bedgraph__1AA51F1B.png\"/>\n",
    "```\n",
    "/Users/sr320/data-genomic/tentacle/Cuffdiff_geneexp.sig.gtf\n",
    "/Users/sr320/data-genomic/tentacle/rebuilt.gtf\n",
    "/Users/sr320/data-genomic/tentacle/Cgigas_v9_gene-housekeeping.gff\n",
    "/Users/sr320/data-genomic/tentacle/Cgigas_v9_gene-env-response.gff\n",
    "```"
   ]
  },
  {
   "cell_type": "markdown",
   "metadata": {},
   "source": [
    "# DEGs"
   ]
  },
  {
   "cell_type": "markdown",
   "metadata": {},
   "source": [
    "`-wb\tWrite the original entry in B for each overlap. Useful for knowing what A overlaps. Restricted by -f and -r.`"
   ]
  },
  {
   "cell_type": "code",
   "execution_count": 6,
   "metadata": {
    "collapsed": false
   },
   "outputs": [
    {
     "name": "stdout",
     "output_type": "stream",
     "text": [
      " 880 Cufflinks\r\n"
     ]
    }
   ],
   "source": [
    "!intersectbed \\\n",
    "-wb \\\n",
    "-a ./data/2014.07.02.colson/genomeBrowserTracks/logFC_HS-preHS/2014.07.02.2M_sig.bedGraph \\\n",
    "-b /Users/sr320/data-genomic/tentacle/Cuffdiff_geneexp.sig.gtf \\\n",
    "| cut -f 6 \\\n",
    "| sort | uniq -c "
   ]
  },
  {
   "cell_type": "code",
   "execution_count": 7,
   "metadata": {
    "collapsed": false
   },
   "outputs": [
    {
     "name": "stdout",
     "output_type": "stream",
     "text": [
      " 704 Cufflinks\r\n"
     ]
    }
   ],
   "source": [
    "!intersectbed \\\n",
    "-wb \\\n",
    "-a ./data/2014.07.02.colson/genomeBrowserTracks/logFC_HS-preHS/2014.07.02.4M_sig.bedGraph \\\n",
    "-b /Users/sr320/data-genomic/tentacle/Cuffdiff_geneexp.sig.gtf \\\n",
    "| cut -f 6 \\\n",
    "| sort | uniq -c "
   ]
  },
  {
   "cell_type": "code",
   "execution_count": 8,
   "metadata": {
    "collapsed": false
   },
   "outputs": [
    {
     "name": "stdout",
     "output_type": "stream",
     "text": [
      " 632 Cufflinks\r\n"
     ]
    }
   ],
   "source": [
    "!intersectbed \\\n",
    "-wb \\\n",
    "-a ./data/2014.07.02.colson/genomeBrowserTracks/logFC_HS-preHS/2014.07.02.6M_sig.bedGraph \\\n",
    "-b /Users/sr320/data-genomic/tentacle/Cuffdiff_geneexp.sig.gtf \\\n",
    "| cut -f 6 \\\n",
    "| sort | uniq -c "
   ]
  },
  {
   "cell_type": "code",
   "execution_count": 10,
   "metadata": {
    "collapsed": false
   },
   "outputs": [
    {
     "name": "stdout",
     "output_type": "stream",
     "text": [
      "117460 Cufflinks\r\n"
     ]
    }
   ],
   "source": [
    "!intersectbed \\\n",
    "-wb \\\n",
    "-a /Users/sr320/git-repos/paper-Temp-stress/ipynb/data/array-design/OID40453_probe_locations.gff \\\n",
    "-b /Users/sr320/data-genomic/tentacle/Cuffdiff_geneexp.sig.gtf \\\n",
    "| cut -f 11 \\\n",
    "| sort | uniq -c "
   ]
  },
  {
   "cell_type": "markdown",
   "metadata": {},
   "source": [
    "# Rebuilt (new gtf based on RNAseq data)"
   ]
  },
  {
   "cell_type": "code",
   "execution_count": null,
   "metadata": {
    "collapsed": true
   },
   "outputs": [],
   "source": []
  }
 ],
 "metadata": {
  "kernelspec": {
   "display_name": "Python 2",
   "language": "python",
   "name": "python2"
  },
  "language_info": {
   "codemirror_mode": {
    "name": "ipython",
    "version": 2
   },
   "file_extension": ".py",
   "mimetype": "text/x-python",
   "name": "python",
   "nbconvert_exporter": "python",
   "pygments_lexer": "ipython2",
   "version": "2.7.9"
  }
 },
 "nbformat": 4,
 "nbformat_minor": 0
}
