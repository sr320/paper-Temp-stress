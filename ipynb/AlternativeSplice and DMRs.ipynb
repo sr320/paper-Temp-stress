{
 "cells": [
  {
   "cell_type": "markdown",
   "metadata": {},
   "source": [
    "Quick look at methylation state at DMRs using intersectbed."
   ]
  },
  {
   "cell_type": "code",
   "execution_count": null,
   "metadata": {
    "collapsed": true
   },
   "outputs": [],
   "source": [
    "Lets combine DMRs at probe level from three individuals"
   ]
  },
  {
   "cell_type": "code",
   "execution_count": 1,
   "metadata": {
    "collapsed": false
   },
   "outputs": [
    {
     "name": "stdout",
     "output_type": "stream",
     "text": [
      "track type=bedGraph name=\"4M_sig\" description=\"4M_sig\" visibility=full color=100,100,0 altColor=0,100,200 priority=20\r\n",
      "scaffold1\t55723\t55780\t-1.14983078196614\r\n",
      "scaffold1\t162896\t162952\t1.31051906307266\r\n",
      "scaffold1\t165162\t165215\t-1.24601772855566\r\n",
      "scaffold1\t171392\t171453\t-1.22260744814979\r\n",
      "scaffold1\t174020\t174073\t1.13065801555915\r\n",
      "scaffold1\t174287\t174343\t-1.69319890151177\r\n",
      "scaffold1\t176273\t176334\t-1.72785163633438\r\n",
      "scaffold1\t178210\t178267\t1.2199265031441\r\n",
      "scaffold1\t183256\t183318\t-1.30551922539134\r\n"
     ]
    }
   ],
   "source": [
    "!head /Volumes/web/halfshell/2015-05-comgenbro/2014.07.02.4M_sig.bedGraph"
   ]
  },
  {
   "cell_type": "code",
   "execution_count": 18,
   "metadata": {
    "collapsed": false
   },
   "outputs": [
    {
     "name": "stdout",
     "output_type": "stream",
     "text": [
      "      41 ./analyses/HS-Cuffdiff_altsplice.bed\r\n"
     ]
    }
   ],
   "source": [
    "!wc -l ./analyses/HS-Cuffdiff_altsplice.bed"
   ]
  },
  {
   "cell_type": "code",
   "execution_count": 10,
   "metadata": {
    "collapsed": false
   },
   "outputs": [
    {
     "name": "stdout",
     "output_type": "stream",
     "text": [
      "scaffold1391\t351475\t351534\t2\tscaffold1391\t351475\t351534\t-1.73782576867204\r\n",
      "scaffold1391\t353587\t353646\t2\tscaffold1391\t353587\t353646\t-1.65489819069739\r\n",
      "scaffold1391\t368879\t368934\t1\tscaffold1391\t368879\t368934\t-1.66277017898724\r\n",
      "scaffold1391\t369405\t369456\t1\tscaffold1391\t369405\t369456\t-1.55433455093611\r\n",
      "scaffold1391\t368879\t368934\t2\tscaffold1391\t368879\t368934\t-1.32365249465945\r\n",
      "scaffold1391\t369234\t369284\t2\tscaffold1391\t369234\t369284\t-1.96032546780383\r\n",
      "scaffold1391\t369234\t369284\t3\tscaffold1391\t369234\t369284\t1.65051071889116\r\n",
      "scaffold1391\t385385\t385440\t2\tscaffold1391\t385385\t385440\t1.40530182528506\r\n",
      "scaffold1391\t379548\t379603\t3\tscaffold1391\t379548\t379603\t-2.0293261466194\r\n",
      "scaffold1583\t646849\t646907\t1\tscaffold1583\t646849\t646907\t1.21517867908626\r\n",
      "scaffold1583\t649003\t649062\t3\tscaffold1583\t649003\t649062\t1.34211867434306\r\n",
      "scaffold1643\t197128\t197184\t2\tscaffold1643\t197128\t197184\t-1.76943216814009\r\n",
      "scaffold1643\t199638\t199697\t2\tscaffold1643\t199638\t199697\t-1.21913031481213\r\n",
      "scaffold1009\t681753\t681804\t1\tscaffold1009\t681753\t681804\t-1.15577827736032\r\n",
      "scaffold1009\t686716\t686766\t2\tscaffold1009\t686716\t686766\t-1.35231872883914\r\n",
      "scaffold1009\t686831\t686891\t3\tscaffold1009\t686831\t686891\t-1.14141648576146\r\n",
      "scaffold1009\t690447\t690506\t2\tscaffold1009\t690447\t690506\t1.26310148490941\r\n",
      "scaffold1009\t696011\t696070\t3\tscaffold1009\t696011\t696070\t1.7851595806916\r\n",
      "scaffold1009\t700702\t700758\t3\tscaffold1009\t700702\t700758\t-1.97714314486376\r\n",
      "scaffold1009\t710194\t710251\t1\tscaffold1009\t710194\t710251\t1.13112592103235\r\n",
      "scaffold1009\t716958\t717015\t1\tscaffold1009\t716958\t717015\t1.15513519748455\r\n",
      "scaffold1009\t717098\t717159\t1\tscaffold1009\t717098\t717159\t1.29282238271726\r\n",
      "scaffold1009\t716828\t716890\t2\tscaffold1009\t716828\t716890\t1.57020139752381\r\n",
      "scaffold1009\t717343\t717400\t2\tscaffold1009\t717343\t717400\t1.37093119848327\r\n",
      "scaffold198\t1043776\t1043832\t1\tscaffold198\t1043776\t1043832\t-1.24197584578184\r\n",
      "scaffold198\t1048537\t1048592\t3\tscaffold198\t1048537\t1048592\t1.55222694573076\r\n",
      "scaffold198\t1096362\t1096412\t2\tscaffold198\t1096362\t1096412\t-1.26803190419544\r\n",
      "scaffold198\t1098231\t1098281\t1\tscaffold198\t1098231\t1098281\t-1.19068635990048\r\n",
      "scaffold211\t963303\t963362\t2\tscaffold211\t963303\t963362\t-1.2262072008612\r\n",
      "scaffold211\t971923\t971980\t1\tscaffold211\t971923\t971980\t-1.38326975213491\r\n",
      "scaffold211\t969235\t969292\t2\tscaffold211\t969235\t969292\t1.26957574521485\r\n",
      "scaffold211\t970691\t970741\t2\tscaffold211\t970691\t970741\t-1.21828074755869\r\n",
      "scaffold351\t643842\t643897\t3\tscaffold351\t643842\t643897\t-1.49815228704483\r\n",
      "scaffold351\t646777\t646831\t3\tscaffold351\t646777\t646831\t-1.14687113224562\r\n",
      "scaffold351\t647899\t647955\t3\tscaffold351\t647899\t647955\t-1.32590342086181\r\n",
      "scaffold102\t1298432\t1298488\t1\tscaffold102\t1298432\t1298488\t1.18858472068987\r\n",
      "scaffold102\t1307675\t1307733\t2\tscaffold102\t1307675\t1307733\t-1.52304204872985\r\n",
      "scaffold102\t1305163\t1305213\t3\tscaffold102\t1305163\t1305213\t-1.39026387601754\r\n",
      "scaffold102\t1310676\t1310732\t2\tscaffold102\t1310676\t1310732\t-1.30714589401732\r\n",
      "scaffold383\t105047\t105109\t1\tscaffold383\t105047\t105109\t-1.21991392496514\r\n",
      "scaffold383\t106655\t106716\t1\tscaffold383\t106655\t106716\t1.18947459077702\r\n",
      "scaffold383\t107276\t107332\t1\tscaffold383\t107276\t107332\t1.23501336692828\r\n",
      "scaffold383\t114048\t114101\t2\tscaffold383\t114048\t114101\t-1.20743201675795\r\n",
      "scaffold383\t104197\t104257\t3\tscaffold383\t104197\t104257\t1.35692954200681\r\n",
      "scaffold383\t105047\t105109\t3\tscaffold383\t105047\t105109\t1.45304399678411\r\n",
      "scaffold383\t106285\t106346\t3\tscaffold383\t106285\t106346\t-1.59609504830366\r\n",
      "scaffold383\t106415\t106473\t3\tscaffold383\t106415\t106473\t-1.55083428248729\r\n",
      "scaffold383\t107276\t107332\t3\tscaffold383\t107276\t107332\t1.17063658126774\r\n",
      "scaffold395\t89716\t89768\t1\tscaffold395\t89716\t89768\t1.13983926615111\r\n",
      "scaffold395\t90196\t90246\t2\tscaffold395\t90196\t90246\t-1.26040368676381\r\n",
      "scaffold395\t94920\t94973\t2\tscaffold395\t94920\t94973\t-1.88161335990579\r\n",
      "scaffold395\t96666\t96719\t3\tscaffold395\t96666\t96719\t-1.33871730835016\r\n",
      "scaffold395\t100197\t100247\t1\tscaffold395\t100197\t100247\t1.13349165801596\r\n",
      "scaffold399\t123579\t123635\t2\tscaffold399\t123579\t123635\t-1.83258388505113\r\n",
      "scaffold43208\t29744\t29796\t1\tscaffold43208\t29744\t29796\t-1.33019843693453\r\n",
      "scaffold43208\t42063\t42123\t1\tscaffold43208\t42063\t42123\t1.27062208758764\r\n",
      "scaffold43208\t34569\t34620\t2\tscaffold43208\t34569\t34620\t-1.61631203751998\r\n",
      "scaffold43940\t74599\t74649\t1\tscaffold43940\t74599\t74649\t-1.17168782445171\r\n",
      "scaffold43940\t74599\t74649\t2\tscaffold43940\t74599\t74649\t-1.72924383489824\r\n",
      "scaffold1160\t372212\t372271\t1\tscaffold1160\t372212\t372271\t1.3148808293676\r\n",
      "scaffold1160\t370388\t370442\t3\tscaffold1160\t370388\t370442\t-1.63018200804788\r\n",
      "scaffold1160\t377879\t377935\t1\tscaffold1160\t377879\t377935\t-1.15595294475899\r\n",
      "scaffold1160\t385543\t385600\t3\tscaffold1160\t385543\t385600\t1.21968264234738\r\n",
      "scaffold1160\t385798\t385853\t3\tscaffold1160\t385798\t385853\t1.27984795270702\r\n",
      "scaffold1160\t386418\t386474\t3\tscaffold1160\t386418\t386474\t1.17648603282531\r\n",
      "scaffold128\t430652\t430705\t1\tscaffold128\t430652\t430705\t-1.2168614506529\r\n",
      "scaffold128\t431515\t431571\t1\tscaffold128\t431515\t431571\t-1.47132986479382\r\n",
      "scaffold128\t437035\t437085\t1\tscaffold128\t437035\t437085\t-1.26651109193305\r\n",
      "scaffold128\t436800\t436850\t2\tscaffold128\t436800\t436850\t-1.22027084030365\r\n",
      "scaffold128\t431023\t431074\t3\tscaffold128\t431023\t431074\t-1.50928730776169\r\n",
      "scaffold128\t433762\t433823\t3\tscaffold128\t433762\t433823\t-1.53588512196868\r\n",
      "scaffold128\t435883\t435945\t3\tscaffold128\t435883\t435945\t-1.23885700794626\r\n",
      "scaffold1282\t37298\t37355\t1\tscaffold1282\t37298\t37355\t-1.16144858212314\r\n",
      "scaffold13\t5552\t5609\t1\tscaffold13\t5552\t5609\t-1.26791379789556\r\n",
      "scaffold13\t6557\t6620\t1\tscaffold13\t6557\t6620\t1.34727606524298\r\n",
      "scaffold13\t5812\t5866\t2\tscaffold13\t5812\t5866\t-1.34468375814868\r\n",
      "scaffold13\t5552\t5609\t3\tscaffold13\t5552\t5609\t-1.20018701321302\r\n",
      "scaffold13\t14920\t14977\t3\tscaffold13\t14920\t14977\t-1.20433610509208\r\n",
      "scaffold13\t15065\t15128\t3\tscaffold13\t15065\t15128\t-1.60548514854109\r\n",
      "scaffold1322\t265596\t265654\t3\tscaffold1322\t265596\t265654\t-1.33382039663991\r\n",
      "scaffold1322\t267755\t267813\t3\tscaffold1322\t267755\t267813\t-1.22801309292865\r\n",
      "scaffold1322\t275248\t275303\t3\tscaffold1322\t275248\t275303\t-1.16913596472211\r\n",
      "scaffold1322\t287841\t287896\t2\tscaffold1322\t287841\t287896\t-1.40264270747204\r\n",
      "scaffold1322\t287071\t287130\t3\tscaffold1322\t287071\t287130\t1.25972906306287\r\n",
      "scaffold1322\t291978\t292040\t3\tscaffold1322\t291978\t292040\t-1.33075962538525\r\n",
      "scaffold1322\t295402\t295456\t1\tscaffold1322\t295402\t295456\t-1.26533900673619\r\n",
      "scaffold1322\t295564\t295620\t2\tscaffold1322\t295564\t295620\t-1.70086163979458\r\n",
      "scaffold1322\t301887\t301947\t2\tscaffold1322\t301887\t301947\t1.36730378306213\r\n",
      "scaffold1322\t295402\t295456\t3\tscaffold1322\t295402\t295456\t-1.36949968657544\r\n",
      "scaffold1322\t301887\t301947\t3\tscaffold1322\t301887\t301947\t2.50233107245761\r\n"
     ]
    }
   ],
   "source": [
    "!intersectbed \\\n",
    "-wb \\\n",
    "-a ./analyses/HS-Cuffdiff_altsplice.bed \\\n",
    "-b /Volumes/web/halfshell/2015-05-comgenbro/2014.07.02.4M_sig.bedGraph \\\n",
    "/Volumes/web/halfshell/2015-05-comgenbro/2014.07.02.2M_sig.bedGraph \\\n",
    "/Volumes/web/halfshell/2015-05-comgenbro/2014.07.02.6M_sig.bedGraph"
   ]
  },
  {
   "cell_type": "code",
   "execution_count": 13,
   "metadata": {
    "collapsed": false
   },
   "outputs": [
    {
     "name": "stdout",
     "output_type": "stream",
     "text": [
      "      90\r\n"
     ]
    }
   ],
   "source": [
    "!intersectbed \\\n",
    "-wb \\\n",
    "-a ./analyses/HS-Cuffdiff_altsplice.bed \\\n",
    "-b /Volumes/web/halfshell/2015-05-comgenbro/2014.07.02.4M_sig.bedGraph \\\n",
    "/Volumes/web/halfshell/2015-05-comgenbro/2014.07.02.2M_sig.bedGraph \\\n",
    "/Volumes/web/halfshell/2015-05-comgenbro/2014.07.02.6M_sig.bedGraph | wc -l"
   ]
  },
  {
   "cell_type": "code",
   "execution_count": 14,
   "metadata": {
    "collapsed": true
   },
   "outputs": [],
   "source": [
    "!intersectbed \\\n",
    "-wb \\\n",
    "-a ./analyses/HS-Cuffdiff_altsplice.bed \\\n",
    "-b /Volumes/web/halfshell/2015-05-comgenbro/2014.07.02.4M_sig.bedGraph \\\n",
    "/Volumes/web/halfshell/2015-05-comgenbro/2014.07.02.2M_sig.bedGraph \\\n",
    "/Volumes/web/halfshell/2015-05-comgenbro/2014.07.02.6M_sig.bedGraph \\\n",
    "> ./analyses/Altsplice-intersect-2M4M6M.tab"
   ]
  },
  {
   "cell_type": "markdown",
   "metadata": {},
   "source": [
    "## of 90 DMRs - 60 Hypo, 30 Hyper, Same as whole genome"
   ]
  },
  {
   "cell_type": "code",
   "execution_count": null,
   "metadata": {
    "collapsed": true
   },
   "outputs": [],
   "source": [
    "---\n"
   ]
  },
  {
   "cell_type": "code",
   "execution_count": 17,
   "metadata": {
    "collapsed": false
   },
   "outputs": [],
   "source": [
    "!intersectbed \\\n",
    "-wb \\\n",
    "-a ./analyses/HS-Cuffdiff_altsplice.bed \\\n",
    "-b /Volumes/web/halfshell/2015-05-comgenbro/2014.07.02.2M_Hyper_3plusAdjactentProbes.gff \\\n",
    "/Volumes/web/halfshell/2015-05-comgenbro/2014.07.02.2M_Hypo_3plusAdjactentProbes.gff \\\n",
    "/Volumes/web/halfshell/2015-05-comgenbro/2014.07.02.4M_Hyper_3plusAdjactentProbes.gff \\\n",
    "/Volumes/web/halfshell/2015-05-comgenbro/2014.07.02.4M_Hypo_3plusAdjactentProbes.gff \\\n",
    "/Volumes/web/halfshell/2015-05-comgenbro/2014.07.02.6M_Hyper_3plusAdjactentProbes.gff \\\n",
    "/Volumes/web/halfshell/2015-05-comgenbro/2014.07.02.6M_Hypo_3plusAdjactentProbes.gff"
   ]
  },
  {
   "cell_type": "code",
   "execution_count": null,
   "metadata": {
    "collapsed": true
   },
   "outputs": [],
   "source": []
  }
 ],
 "metadata": {
  "kernelspec": {
   "display_name": "Python 2",
   "language": "python",
   "name": "python2"
  },
  "language_info": {
   "codemirror_mode": {
    "name": "ipython",
    "version": 2
   },
   "file_extension": ".py",
   "mimetype": "text/x-python",
   "name": "python",
   "nbconvert_exporter": "python",
   "pygments_lexer": "ipython2",
   "version": "2.7.10"
  }
 },
 "nbformat": 4,
 "nbformat_minor": 0
}
