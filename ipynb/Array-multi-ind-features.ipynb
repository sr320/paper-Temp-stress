{
 "cells": [
  {
   "cell_type": "markdown",
   "metadata": {},
   "source": [
    "# Defining regions where multiple individuals show same change in methylation"
   ]
  },
  {
   "cell_type": "markdown",
   "metadata": {},
   "source": [
    "We already have tracks where 3+ features / individual are merged (_3plusmerge_) given they are with 100bp."
   ]
  },
  {
   "cell_type": "markdown",
   "metadata": {},
   "source": [
    "![](../figures/igv-dmr-2.png)\n"
   ]
  },
  {
   "cell_type": "markdown",
   "metadata": {},
   "source": [
    "To ID regions where multiple individuals show same change..."
   ]
  },
  {
   "cell_type": "code",
   "execution_count": 1,
   "metadata": {
    "collapsed": true
   },
   "outputs": [],
   "source": [
    "#concatenated tracks\n",
    "!cat \\\n",
    "/Volumes/web/halfshell/2015-05-comgenbro/2M_3plusmerge_Hypo.bed \\\n",
    "/Volumes/web/halfshell/2015-05-comgenbro/4M_3plusmerge_Hypo.bed \\\n",
    "/Volumes/web/halfshell/2015-05-comgenbro/6M_3plusmerge_Hypo.bed \\\n",
    "> /Users/sr320/git-repos/paper-Temp-stress/ipynb/analyses/mergHYPOcat.bed\n"
   ]
  },
  {
   "cell_type": "markdown",
   "metadata": {},
   "source": [
    "![](http://eagle.fish.washington.edu/cnidarian/skitch/IGV_-_Session___Volumes_web_halfshell_2015-05-comgenbro_igv_session_xml_and_Array-multi-ind-features_1B3DA9BE.png)"
   ]
  },
  {
   "cell_type": "code",
   "execution_count": 11,
   "metadata": {
    "collapsed": false
   },
   "outputs": [
    {
     "name": "stdout",
     "output_type": "stream",
     "text": [
      "scaffold481\t576986\t578532\t3\r\n",
      "scaffold247\t141885\t142442\t3\r\n",
      "scaffold1518\t212680\t213736\t3\r\n",
      "scaffold853\t46186\t46496\t2\r\n",
      "scaffold406\t419330\t419384\t2\r\n",
      "scaffold406\t419005\t419060\t2\r\n",
      "scaffold406\t418360\t418767\t2\r\n",
      "scaffold394\t555813\t556224\t2\r\n",
      "scaffold247\t144031\t144583\t2\r\n",
      "scaffold242\t75918\t76344\t2\r\n",
      "scaffold142\t656144\t656735\t2\r\n",
      "scaffold12\t243960\t244376\t2\r\n",
      "scaffold983\t17338\t18139\t1\r\n",
      "scaffold983\t16818\t17119\t1\r\n",
      "scaffold968\t118700\t118751\t1\r\n",
      "scaffold968\t118405\t118571\t1\r\n",
      "scaffold942\t185812\t186123\t1\r\n",
      "scaffold894\t42948\t43267\t1\r\n",
      "scaffold885\t474982\t475403\t1\r\n",
      "scaffold880\t495287\t495584\t1\r\n",
      "scaffold879\t121934\t122121\t1\r\n",
      "scaffold879\t121684\t121740\t1\r\n",
      "scaffold847\t551310\t551368\t1\r\n",
      "scaffold847\t550955\t551123\t1\r\n",
      "scaffold802\t110877\t110939\t1\r\n",
      "scaffold802\t110095\t110279\t1\r\n",
      "scaffold747\t349083\t349421\t1\r\n",
      "scaffold737\t107564\t107860\t1\r\n",
      "scaffold713\t340881\t341162\t1\r\n",
      "scaffold709\t412283\t412869\t1\r\n",
      "scaffold709\t412128\t412179\t1\r\n",
      "scaffold665\t97417\t97616\t1\r\n",
      "scaffold665\t96792\t96857\t1\r\n",
      "scaffold632\t252545\t252986\t1\r\n",
      "scaffold63\t419210\t419515\t1\r\n",
      "scaffold622\t437447\t437499\t1\r\n",
      "scaffold622\t437182\t437236\t1\r\n",
      "scaffold622\t436892\t437068\t1\r\n",
      "scaffold616\t282107\t282402\t1\r\n",
      "scaffold616\t240973\t241033\t1\r\n",
      "scaffold616\t240238\t240404\t1\r\n",
      "scaffold616\t239918\t240109\t1\r\n",
      "scaffold614\t224350\t224641\t1\r\n",
      "scaffold601\t1224731\t1225027\t1\r\n",
      "scaffold594\t259665\t259723\t1\r\n",
      "scaffold594\t259220\t259403\t1\r\n",
      "scaffold588\t57559\t57881\t1\r\n",
      "scaffold588\t244228\t244534\t1\r\n",
      "scaffold58\t143227\t143289\t1\r\n",
      "scaffold58\t142869\t143053\t1\r\n",
      "scaffold579\t199314\t199373\t1\r\n",
      "scaffold579\t199044\t199103\t1\r\n",
      "scaffold579\t198644\t198702\t1\r\n",
      "scaffold57\t375756\t376179\t1\r\n",
      "scaffold557\t401177\t401740\t1\r\n",
      "scaffold544\t49724\t50385\t1\r\n",
      "scaffold542\t250278\t250740\t1\r\n",
      "scaffold542\t248198\t248253\t1\r\n",
      "scaffold542\t247837\t248022\t1\r\n",
      "scaffold542\t242268\t242712\t1\r\n",
      "scaffold541\t376950\t377606\t1\r\n",
      "scaffold531\t87405\t87712\t1\r\n",
      "scaffold521\t66699\t67000\t1\r\n",
      "scaffold521\t107905\t107956\t1\r\n",
      "scaffold521\t107545\t107608\t1\r\n",
      "scaffold521\t107296\t107353\t1\r\n",
      "scaffold492\t344813\t345249\t1\r\n",
      "scaffold457\t43703\t43889\t1\r\n",
      "scaffold457\t43443\t43495\t1\r\n",
      "scaffold44098\t96033\t96324\t1\r\n",
      "scaffold44098\t195287\t195573\t1\r\n",
      "scaffold44\t373851\t374293\t1\r\n",
      "scaffold44\t373276\t373703\t1\r\n",
      "scaffold44\t372931\t372983\t1\r\n",
      "scaffold43794\t261706\t261891\t1\r\n",
      "scaffold43794\t261331\t261398\t1\r\n",
      "scaffold43258\t205910\t206238\t1\r\n",
      "scaffold43116\t47628\t48159\t1\r\n",
      "scaffold43074\t200252\t200583\t1\r\n",
      "scaffold43036\t151198\t151505\t1\r\n",
      "scaffold43\t408188\t408243\t1\r\n",
      "scaffold43\t407668\t407845\t1\r\n",
      "scaffold42788\t87126\t87188\t1\r\n",
      "scaffold42788\t86761\t86949\t1\r\n",
      "scaffold42380\t90843\t91129\t1\r\n",
      "scaffold42326\t136896\t137187\t1\r\n",
      "scaffold42302\t145180\t145356\t1\r\n",
      "scaffold42302\t144946\t145003\t1\r\n",
      "scaffold42164\t95203\t95503\t1\r\n",
      "scaffold41900\t43748\t44054\t1\r\n",
      "scaffold41164\t99229\t99530\t1\r\n",
      "scaffold40856\t88593\t88657\t1\r\n",
      "scaffold40856\t88091\t88283\t1\r\n",
      "scaffold40832\t34428\t34730\t1\r\n",
      "scaffold406\t419660\t419718\t1\r\n",
      "scaffold40404\t66370\t66421\t1\r\n",
      "scaffold40404\t66170\t66221\t1\r\n",
      "scaffold40404\t65770\t65822\t1\r\n",
      "scaffold40404\t64745\t64917\t1\r\n",
      "scaffold40404\t64481\t64537\t1\r\n",
      "scaffold40282\t64161\t64479\t1\r\n",
      "scaffold40254\t31331\t31639\t1\r\n",
      "scaffold4\t76062\t76429\t1\r\n",
      "scaffold39778\t68484\t68538\t1\r\n",
      "scaffold39778\t67963\t68284\t1\r\n",
      "scaffold394\t61557\t61874\t1\r\n",
      "scaffold392\t213620\t213932\t1\r\n",
      "scaffold392\t203896\t204208\t1\r\n",
      "scaffold388\t213296\t213462\t1\r\n",
      "scaffold388\t212291\t212349\t1\r\n",
      "scaffold372\t177146\t177197\t1\r\n",
      "scaffold372\t176916\t176971\t1\r\n",
      "scaffold372\t176523\t176578\t1\r\n",
      "scaffold348\t716142\t716446\t1\r\n",
      "scaffold335\t60531\t60693\t1\r\n",
      "scaffold335\t60010\t60067\t1\r\n",
      "scaffold313\t960532\t960833\t1\r\n",
      "scaffold308\t50213\t50645\t1\r\n",
      "scaffold274\t459522\t460223\t1\r\n",
      "scaffold241\t85098\t85539\t1\r\n",
      "scaffold226\t264062\t264360\t1\r\n",
      "scaffold22\t1882425\t1882588\t1\r\n",
      "scaffold22\t1882179\t1882231\t1\r\n",
      "scaffold219\t171901\t171954\t1\r\n",
      "scaffold219\t171631\t171798\t1\r\n",
      "scaffold203\t259584\t259908\t1\r\n",
      "scaffold200\t35158\t35314\t1\r\n",
      "scaffold200\t34653\t34969\t1\r\n",
      "scaffold198\t550544\t550846\t1\r\n",
      "scaffold193\t66310\t66371\t1\r\n",
      "scaffold193\t66130\t66185\t1\r\n",
      "scaffold193\t65914\t65965\t1\r\n",
      "scaffold1901\t351779\t352066\t1\r\n",
      "scaffold1895\t134450\t134505\t1\r\n",
      "scaffold1895\t134200\t134258\t1\r\n",
      "scaffold1895\t133770\t133821\t1\r\n",
      "scaffold1895\t133360\t133411\t1\r\n",
      "scaffold189\t209552\t209991\t1\r\n",
      "scaffold1835\t389934\t390487\t1\r\n",
      "scaffold1834\t57946\t58006\t1\r\n",
      "scaffold1834\t57569\t57746\t1\r\n",
      "scaffold1827\t304885\t305206\t1\r\n",
      "scaffold1817\t27146\t27462\t1\r\n",
      "scaffold1759\t85559\t85855\t1\r\n",
      "scaffold1752\t17916\t17975\t1\r\n",
      "scaffold1752\t17551\t17709\t1\r\n",
      "scaffold1737\t504567\t504618\t1\r\n",
      "scaffold1737\t504057\t504108\t1\r\n",
      "scaffold1737\t503502\t503553\t1\r\n",
      "scaffold1719\t330285\t330484\t1\r\n",
      "scaffold1719\t330025\t330079\t1\r\n",
      "scaffold1656\t72788\t72845\t1\r\n",
      "scaffold1656\t72301\t72470\t1\r\n",
      "scaffold1654\t31753\t32049\t1\r\n",
      "scaffold163\t482904\t483345\t1\r\n",
      "scaffold163\t467170\t467351\t1\r\n",
      "scaffold163\t466915\t466973\t1\r\n",
      "scaffold1627\t214323\t214619\t1\r\n",
      "scaffold1625\t96879\t97439\t1\r\n",
      "scaffold1532\t1408496\t1408798\t1\r\n",
      "scaffold1503\t67189\t67517\t1\r\n",
      "scaffold150\t611097\t611397\t1\r\n",
      "scaffold1497\t110217\t110525\t1\r\n",
      "scaffold1493\t16031\t16478\t1\r\n",
      "scaffold1484\t346732\t346793\t1\r\n",
      "scaffold1484\t346442\t346623\t1\r\n",
      "scaffold1437\t20874\t21168\t1\r\n",
      "scaffold142\t237803\t238097\t1\r\n",
      "scaffold1409\t139629\t139680\t1\r\n",
      "scaffold1409\t139329\t139505\t1\r\n",
      "scaffold1391\t190523\t190935\t1\r\n",
      "scaffold1367\t121440\t121625\t1\r\n",
      "scaffold1367\t121175\t121233\t1\r\n",
      "scaffold1324\t356489\t356781\t1\r\n",
      "scaffold1322\t409152\t409472\t1\r\n",
      "scaffold1307\t652152\t652606\t1\r\n",
      "scaffold1264\t68697\t69025\t1\r\n",
      "scaffold1255\t198376\t198802\t1\r\n",
      "scaffold1249\t494779\t495082\t1\r\n",
      "scaffold1235\t34383\t34443\t1\r\n",
      "scaffold1235\t34089\t34268\t1\r\n",
      "scaffold1235\t26466\t26785\t1\r\n",
      "scaffold1210\t165042\t165474\t1\r\n",
      "scaffold1204\t66531\t66832\t1\r\n",
      "scaffold1188\t461425\t461738\t1\r\n",
      "scaffold1123\t40268\t40589\t1\r\n",
      "scaffold1077\t401205\t401534\t1\r\n",
      "scaffold1041\t199217\t199498\t1\r\n",
      "scaffold1018\t367618\t367674\t1\r\n",
      "scaffold1018\t367127\t367319\t1\r\n",
      "scaffold1016\t249436\t249737\t1\r\n",
      "scaffold101\t610559\t610740\t1\r\n",
      "scaffold101\t610174\t610236\t1\r\n",
      "scaffold100\t804406\t804960\t1\r\n"
     ]
    }
   ],
   "source": [
    "#then using bedtools merge features (though first had to sort)\n",
    "!bedtools sort -i /Users/sr320/git-repos/paper-Temp-stress/ipynb/analyses/mergHYPOcat.bed \\\n",
    "> /Users/sr320/git-repos/paper-Temp-stress/ipynb/analyses/mergHYPOcatsort.bed\n",
    "!bedtools merge -c 2 -o count \\\n",
    "-i /Users/sr320/git-repos/paper-Temp-stress/ipynb/analyses/mergHYPOcatsort.bed | sort -nrk4"
   ]
  },
  {
   "cell_type": "code",
   "execution_count": 12,
   "metadata": {
    "collapsed": false
   },
   "outputs": [
    {
     "name": "stdout",
     "output_type": "stream",
     "text": [
      "scaffold481\t576986\t578532\t3\r\n",
      "scaffold247\t141885\t142442\t3\r\n",
      "scaffold1518\t212680\t213736\t3\r\n",
      "scaffold853\t46186\t46496\t2\r\n",
      "scaffold406\t419330\t419384\t2\r\n",
      "scaffold406\t419005\t419060\t2\r\n",
      "scaffold406\t418360\t418767\t2\r\n",
      "scaffold394\t555813\t556224\t2\r\n",
      "scaffold247\t144031\t144583\t2\r\n",
      "scaffold242\t75918\t76344\t2\r\n",
      "scaffold142\t656144\t656735\t2\r\n",
      "scaffold12\t243960\t244376\t2"
     ]
    }
   ],
   "source": [
    "!cat /Users/sr320/git-repos/paper-Temp-stress/genome-feature-tracks/multi-individual-Hypo.bed"
   ]
  },
  {
   "cell_type": "markdown",
   "metadata": {},
   "source": [
    "# There are 12 features that appear be consistent in 1+ oyster"
   ]
  },
  {
   "cell_type": "markdown",
   "metadata": {},
   "source": [
    "Repeat for hyper 3+"
   ]
  },
  {
   "cell_type": "code",
   "execution_count": 7,
   "metadata": {
    "collapsed": true
   },
   "outputs": [],
   "source": [
    "#concatenated tracks\n",
    "!cat \\\n",
    "/Volumes/web/halfshell/2015-05-comgenbro/2M_3plusmerge_Hyper.bed \\\n",
    "/Volumes/web/halfshell/2015-05-comgenbro/4M_3plusmerge_Hyper.bed \\\n",
    "/Volumes/web/halfshell/2015-05-comgenbro/6M_3plusmerge_Hyper.bed \\\n",
    "> /Users/sr320/git-repos/paper-Temp-stress/ipynb/analyses/mergHYPERcat.bed"
   ]
  },
  {
   "cell_type": "code",
   "execution_count": 10,
   "metadata": {
    "collapsed": false
   },
   "outputs": [
    {
     "name": "stdout",
     "output_type": "stream",
     "text": [
      "scaffold1583\t976276\t976596\r\n",
      "scaffold257\t1235165\t1235481\r\n",
      "scaffold43954\t139271\t139589\r\n",
      "scaffold801\t338541\t338853\r\n",
      "scaffold1241\t28111\t28419\r\n",
      "scaffold1447\t305772\t306206\r\n",
      "scaffold1805\t257176\t257496\r\n",
      "scaffold257\t1235165\t1235481\r\n",
      "scaffold40230\t41604\t41898\r\n",
      "scaffold41982\t74367\t74671\r\n",
      "scaffold63\t426683\t426993\r\n",
      "scaffold70\t774778\t775094\r\n",
      "scaffold801\t338037\t338345\r\n",
      "scaffold801\t339443\t339729\r\n",
      "scaffold1737\t485256\t485565\r\n",
      "scaffold1894\t222981\t223032\r\n",
      "scaffold1894\t223601\t223653\r\n",
      "scaffold1894\t224777\t224838\r\n",
      "scaffold392\t326519\t326818\r\n",
      "scaffold433\t204898\t205194\r\n",
      "scaffold544\t44676\t44853\r\n",
      "scaffold544\t45028\t45086\r\n",
      "scaffold854\t353009\t353316\r\n"
     ]
    }
   ],
   "source": [
    "!cat /Users/sr320/git-repos/paper-Temp-stress/ipynb/analyses/mergHYPERcat.bed"
   ]
  },
  {
   "cell_type": "code",
   "execution_count": 9,
   "metadata": {
    "collapsed": false
   },
   "outputs": [
    {
     "name": "stdout",
     "output_type": "stream",
     "text": [
      "scaffold257\t1235165\t1235481\t2\t2\r\n",
      "scaffold854\t353009\t353316\t1\t1\r\n",
      "scaffold801\t339443\t339729\t1\t1\r\n",
      "scaffold801\t338541\t338853\t1\t1\r\n",
      "scaffold801\t338037\t338345\t1\t1\r\n",
      "scaffold70\t774778\t775094\t1\t1\r\n",
      "scaffold63\t426683\t426993\t1\t1\r\n",
      "scaffold544\t45028\t45086\t1\t1\r\n",
      "scaffold544\t44676\t44853\t1\t1\r\n",
      "scaffold43954\t139271\t139589\t1\t1\r\n",
      "scaffold433\t204898\t205194\t1\t1\r\n",
      "scaffold41982\t74367\t74671\t1\t1\r\n",
      "scaffold40230\t41604\t41898\t1\t1\r\n",
      "scaffold392\t326519\t326818\t1\t1\r\n",
      "scaffold1894\t224777\t224838\t1\t1\r\n",
      "scaffold1894\t223601\t223653\t1\t1\r\n",
      "scaffold1894\t222981\t223032\t1\t1\r\n",
      "scaffold1805\t257176\t257496\t1\t1\r\n",
      "scaffold1737\t485256\t485565\t1\t1\r\n",
      "scaffold1583\t976276\t976596\t1\t1\r\n",
      "scaffold1447\t305772\t306206\t1\t1\r\n",
      "scaffold1241\t28111\t28419\t1\t1\r\n"
     ]
    }
   ],
   "source": [
    "#then using bedtools merge features (though first had to sort)\n",
    "!bedtools sort -i /Users/sr320/git-repos/paper-Temp-stress/ipynb/analyses/mergHYPERcat.bed \\\n",
    "> /Users/sr320/git-repos/paper-Temp-stress/ipynb/analyses/mergHYPERcatsort.bed\n",
    "!bedtools merge -c 2,3 -o count \\\n",
    "-i /Users/sr320/git-repos/paper-Temp-stress/ipynb/analyses/mergHYPERcatsort.bed | sort -nrk4"
   ]
  },
  {
   "cell_type": "markdown",
   "metadata": {},
   "source": [
    "#Looks like 1 feature hyper"
   ]
  },
  {
   "cell_type": "code",
   "execution_count": 13,
   "metadata": {
    "collapsed": true
   },
   "outputs": [],
   "source": [
    "## Created 1 new genome track"
   ]
  },
  {
   "cell_type": "code",
   "execution_count": 14,
   "metadata": {
    "collapsed": false
   },
   "outputs": [
    {
     "name": "stdout",
     "output_type": "stream",
     "text": [
      "scaffold481\t576986\t578532\t-3\r\n",
      "scaffold247\t141885\t142442\t-3\r\n",
      "scaffold1518\t212680\t213736\t-3\r\n",
      "scaffold853\t46186\t46496\t-2\r\n",
      "scaffold406\t419330\t419384\t-2\r\n",
      "scaffold406\t419005\t419060\t-2\r\n",
      "scaffold406\t418360\t418767\t-2\r\n",
      "scaffold394\t555813\t556224\t-2\r\n",
      "scaffold247\t144031\t144583\t-2\r\n",
      "scaffold242\t75918\t76344\t-2\r\n",
      "scaffold142\t656144\t656735\t-2\r\n",
      "scaffold12\t243960\t244376\t-2\r\n",
      "scaffold257\t1235165\t1235481\t+2"
     ]
    }
   ],
   "source": [
    "!cat /Users/sr320/git-repos/paper-Temp-stress/genome-feature-tracks/multi-individual-dmr.bed"
   ]
  },
  {
   "cell_type": "code",
   "execution_count": null,
   "metadata": {
    "collapsed": true
   },
   "outputs": [],
   "source": []
  }
 ],
 "metadata": {
  "kernelspec": {
   "display_name": "Python 2",
   "language": "python",
   "name": "python2"
  },
  "language_info": {
   "codemirror_mode": {
    "name": "ipython",
    "version": 2
   },
   "file_extension": ".py",
   "mimetype": "text/x-python",
   "name": "python",
   "nbconvert_exporter": "python",
   "pygments_lexer": "ipython2",
   "version": "2.7.10"
  }
 },
 "nbformat": 4,
 "nbformat_minor": 0
}
