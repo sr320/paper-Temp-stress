{
 "cells": [
  {
   "cell_type": "code",
   "execution_count": 2,
   "metadata": {
    "collapsed": false
   },
   "outputs": [
    {
     "name": "stdout",
     "output_type": "stream",
     "text": [
      "   10028 /Users/sr320/git-repos/paper-Temp-stress/genome-feature-tracks/2014.07.02.2M_sig.bedGraph\r\n",
      "   10148 /Users/sr320/git-repos/paper-Temp-stress/genome-feature-tracks/2014.07.02.4M_sig.bedGraph\r\n",
      "   11690 /Users/sr320/git-repos/paper-Temp-stress/genome-feature-tracks/2014.07.02.6M_sig.bedGraph\r\n",
      "   31866 total\r\n"
     ]
    }
   ],
   "source": [
    "!wc -l /Users/sr320/git-repos/paper-Temp-stress/genome-feature-tracks/*\n",
    "\n",
    "\n",
    "\n"
   ]
  },
  {
   "cell_type": "code",
   "execution_count": 3,
   "metadata": {
    "collapsed": false
   },
   "outputs": [
    {
     "name": "stdout",
     "output_type": "stream",
     "text": [
      "   10028 /Users/sr320/git-repos/paper-Temp-stress/ipynb/data/canonical/2014.07.02.2M_sig.bedGraph\n",
      "   10148 /Users/sr320/git-repos/paper-Temp-stress/ipynb/data/canonical/2014.07.02.4M_sig.bedGraph\n",
      "   11690 /Users/sr320/git-repos/paper-Temp-stress/ipynb/data/canonical/2014.07.02.6M_sig.bedGraph\n",
      "       4 /Users/sr320/git-repos/paper-Temp-stress/ipynb/data/canonical/2M_3plusmerge_Hyper.bed\n",
      "     108 /Users/sr320/git-repos/paper-Temp-stress/ipynb/data/canonical/2M_3plusmerge_Hypo.bed\n",
      "      10 /Users/sr320/git-repos/paper-Temp-stress/ipynb/data/canonical/4M_3plusmerge_Hyper.bed\n",
      "      48 /Users/sr320/git-repos/paper-Temp-stress/ipynb/data/canonical/4M_3plusmerge_Hypo.bed\n",
      "       9 /Users/sr320/git-repos/paper-Temp-stress/ipynb/data/canonical/6M_3plusmerge_Hyper.bed\n",
      "      53 /Users/sr320/git-repos/paper-Temp-stress/ipynb/data/canonical/6M_3plusmerge_Hypo.bed\n",
      "   32098 total\n"
     ]
    }
   ],
   "source": [
    "!wc -l /Users/sr320/git-repos/paper-Temp-stress/ipynb/data/canonical/*"
   ]
  },
  {
   "cell_type": "code",
   "execution_count": 5,
   "metadata": {
    "collapsed": false
   },
   "outputs": [
    {
     "name": "stdout",
     "output_type": "stream",
     "text": [
      "scaffold257\t1235165\t1235481\r\n"
     ]
    }
   ],
   "source": [
    "!bedtools intersect \\\n",
    "-a /Volumes/web/halfshell/2015-05-comgenbro/2M_3plusmerge_Hyper.bed \\\n",
    "-b /Volumes/web/halfshell/2015-05-comgenbro/4M_3plusmerge_Hyper.bed \\\n",
    "/Volumes/web/halfshell/2015-05-comgenbro/6M_3plusmerge_Hyper.bed"
   ]
  },
  {
   "cell_type": "code",
   "execution_count": 6,
   "metadata": {
    "collapsed": false
   },
   "outputs": [
    {
     "name": "stdout",
     "output_type": "stream",
     "text": [
      "scaffold12\t244080\t244376\r\n",
      "scaffold142\t656269\t656460\r\n",
      "scaffold1518\t212930\t212981\r\n",
      "scaffold1518\t213195\t213606\r\n",
      "scaffold242\t76043\t76344\r\n",
      "scaffold247\t141885\t142442\r\n",
      "scaffold247\t141885\t142442\r\n",
      "scaffold247\t144151\t144583\r\n",
      "scaffold394\t555933\t556110\r\n",
      "scaffold406\t418610\t418767\r\n",
      "scaffold406\t419005\t419060\r\n",
      "scaffold406\t419330\t419384\r\n",
      "scaffold481\t577121\t578407\r\n",
      "scaffold481\t577121\t577537\r\n",
      "scaffold853\t46186\t46496\r\n"
     ]
    }
   ],
   "source": [
    "!bedtools intersect \\\n",
    "-a /Volumes/web/halfshell/2015-05-comgenbro/2M_3plusmerge_Hypo.bed \\\n",
    "-b /Volumes/web/halfshell/2015-05-comgenbro/4M_3plusmerge_Hypo.bed \\\n",
    "/Volumes/web/halfshell/2015-05-comgenbro/6M_3plusmerge_Hypo.bed"
   ]
  },
  {
   "cell_type": "code",
   "execution_count": 9,
   "metadata": {
    "collapsed": false
   },
   "outputs": [
    {
     "name": "stdout",
     "output_type": "stream",
     "text": [
      "scaffold1583\t976276\t976596\n",
      "scaffold257\t1235165\t1235481\n",
      "scaffold43954\t139271\t139589\n",
      "scaffold801\t338541\t338853\n",
      "scaffold1241\t28111\t28419\n",
      "scaffold1447\t305772\t306206\n",
      "scaffold1805\t257176\t257496\n",
      "scaffold257\t1235165\t1235481\n",
      "scaffold40230\t41604\t41898\n",
      "scaffold41982\t74367\t74671\n",
      "scaffold63\t426683\t426993\n",
      "scaffold70\t774778\t775094\n",
      "scaffold801\t338037\t338345\n",
      "scaffold801\t339443\t339729\n",
      "scaffold1737\t485256\t485565\n",
      "scaffold1894\t222981\t223032\n",
      "scaffold1894\t223601\t223653\n",
      "scaffold1894\t224777\t224838\n",
      "scaffold392\t326519\t326818\n",
      "scaffold433\t204898\t205194\n",
      "scaffold544\t44676\t44853\n",
      "scaffold544\t45028\t45086\n",
      "scaffold854\t353009\t353316\n"
     ]
    }
   ],
   "source": [
    "!cat \\\n",
    "/Volumes/web/halfshell/2015-05-comgenbro/2M_3plusmerge_Hyper.bed \\\n",
    "/Volumes/web/halfshell/2015-05-comgenbro/4M_3plusmerge_Hyper.bed \\\n",
    "/Volumes/web/halfshell/2015-05-comgenbro/6M_3plusmerge_Hyper.bed"
   ]
  },
  {
   "cell_type": "code",
   "execution_count": 11,
   "metadata": {
    "collapsed": false
   },
   "outputs": [],
   "source": [
    "!cat \\\n",
    "/Volumes/web/halfshell/2015-05-comgenbro/2M_3plusmerge_Hypo.bed \\\n",
    "/Volumes/web/halfshell/2015-05-comgenbro/4M_3plusmerge_Hypo.bed \\\n",
    "/Volumes/web/halfshell/2015-05-comgenbro/6M_3plusmerge_Hypo.bed \\\n",
    "> /Users/sr320/git-repos/paper-Temp-stress/ipynb/analyses/mergHYPOcat.bed\n"
   ]
  },
  {
   "cell_type": "code",
   "execution_count": 12,
   "metadata": {
    "collapsed": false
   },
   "outputs": [
    {
     "name": "stdout",
     "output_type": "stream",
     "text": [
      "     209 /Users/sr320/git-repos/paper-Temp-stress/ipynb/analyses/mergHYPOcat.bed\r\n"
     ]
    }
   ],
   "source": [
    "!wc -l /Users/sr320/git-repos/paper-Temp-stress/ipynb/analyses/mergHYPOcat.bed"
   ]
  },
  {
   "cell_type": "code",
   "execution_count": 13,
   "metadata": {
    "collapsed": false
   },
   "outputs": [
    {
     "name": "stdout",
     "output_type": "stream",
     "text": [
      "Error: Sorted input specified, but the file /Users/sr320/git-repos/paper-Temp-stress/ipynb/analyses/mergHYPOcat.bed has the following out of order record\r\n",
      "scaffold12\t244080\t244376\r\n"
     ]
    }
   ],
   "source": [
    "!bedtools merge -i /Users/sr320/git-repos/paper-Temp-stress/ipynb/analyses/mergHYPOcat.bed"
   ]
  },
  {
   "cell_type": "code",
   "execution_count": 16,
   "metadata": {
    "collapsed": false
   },
   "outputs": [],
   "source": [
    "!bedtools sort -i /Users/sr320/git-repos/paper-Temp-stress/ipynb/analyses/mergHYPOcat.bed \\\n",
    "> /Users/sr320/git-repos/paper-Temp-stress/ipynb/analyses/mergHYPOcatsort.bed"
   ]
  },
  {
   "cell_type": "code",
   "execution_count": 40,
   "metadata": {
    "collapsed": false
   },
   "outputs": [
    {
     "name": "stdout",
     "output_type": "stream",
     "text": [
      "scaffold481\t576986\t578532\t3\r\n",
      "scaffold247\t141885\t142442\t3\r\n",
      "scaffold1518\t212680\t213736\t3\r\n",
      "scaffold853\t46186\t46496\t2\r\n",
      "scaffold406\t419330\t419384\t2\r\n",
      "scaffold406\t419005\t419060\t2\r\n",
      "scaffold406\t418360\t418767\t2\r\n",
      "scaffold394\t555813\t556224\t2\r\n",
      "scaffold247\t144031\t144583\t2\r\n",
      "scaffold242\t75918\t76344\t2\r\n",
      "scaffold142\t656144\t656735\t2\r\n",
      "scaffold12\t243960\t244376\t2\r\n",
      "scaffold983\t17338\t18139\t1\r\n",
      "scaffold983\t16818\t17119\t1\r\n",
      "scaffold968\t118700\t118751\t1\r\n",
      "scaffold968\t118405\t118571\t1\r\n",
      "scaffold942\t185812\t186123\t1\r\n",
      "scaffold894\t42948\t43267\t1\r\n",
      "scaffold885\t474982\t475403\t1\r\n",
      "scaffold880\t495287\t495584\t1\r\n",
      "scaffold879\t121934\t122121\t1\r\n",
      "scaffold879\t121684\t121740\t1\r\n",
      "scaffold847\t551310\t551368\t1\r\n",
      "scaffold847\t550955\t551123\t1\r\n",
      "scaffold802\t110877\t110939\t1\r\n",
      "scaffold802\t110095\t110279\t1\r\n",
      "scaffold747\t349083\t349421\t1\r\n",
      "scaffold737\t107564\t107860\t1\r\n",
      "scaffold713\t340881\t341162\t1\r\n",
      "scaffold709\t412283\t412869\t1\r\n",
      "scaffold709\t412128\t412179\t1\r\n",
      "scaffold665\t97417\t97616\t1\r\n",
      "scaffold665\t96792\t96857\t1\r\n",
      "scaffold632\t252545\t252986\t1\r\n",
      "scaffold63\t419210\t419515\t1\r\n",
      "scaffold622\t437447\t437499\t1\r\n",
      "scaffold622\t437182\t437236\t1\r\n",
      "scaffold622\t436892\t437068\t1\r\n",
      "scaffold616\t282107\t282402\t1\r\n",
      "scaffold616\t240973\t241033\t1\r\n",
      "scaffold616\t240238\t240404\t1\r\n",
      "scaffold616\t239918\t240109\t1\r\n",
      "scaffold614\t224350\t224641\t1\r\n",
      "scaffold601\t1224731\t1225027\t1\r\n",
      "scaffold594\t259665\t259723\t1\r\n",
      "scaffold594\t259220\t259403\t1\r\n",
      "scaffold588\t57559\t57881\t1\r\n",
      "scaffold588\t244228\t244534\t1\r\n",
      "scaffold58\t143227\t143289\t1\r\n",
      "scaffold58\t142869\t143053\t1\r\n",
      "scaffold579\t199314\t199373\t1\r\n",
      "scaffold579\t199044\t199103\t1\r\n",
      "scaffold579\t198644\t198702\t1\r\n",
      "scaffold57\t375756\t376179\t1\r\n",
      "scaffold557\t401177\t401740\t1\r\n",
      "scaffold544\t49724\t50385\t1\r\n",
      "scaffold542\t250278\t250740\t1\r\n",
      "scaffold542\t248198\t248253\t1\r\n",
      "scaffold542\t247837\t248022\t1\r\n",
      "scaffold542\t242268\t242712\t1\r\n",
      "scaffold541\t376950\t377606\t1\r\n",
      "scaffold531\t87405\t87712\t1\r\n",
      "scaffold521\t66699\t67000\t1\r\n",
      "scaffold521\t107905\t107956\t1\r\n",
      "scaffold521\t107545\t107608\t1\r\n",
      "scaffold521\t107296\t107353\t1\r\n",
      "scaffold492\t344813\t345249\t1\r\n",
      "scaffold457\t43703\t43889\t1\r\n",
      "scaffold457\t43443\t43495\t1\r\n",
      "scaffold44098\t96033\t96324\t1\r\n",
      "scaffold44098\t195287\t195573\t1\r\n",
      "scaffold44\t373851\t374293\t1\r\n",
      "scaffold44\t373276\t373703\t1\r\n",
      "scaffold44\t372931\t372983\t1\r\n",
      "scaffold43794\t261706\t261891\t1\r\n",
      "scaffold43794\t261331\t261398\t1\r\n",
      "scaffold43258\t205910\t206238\t1\r\n",
      "scaffold43116\t47628\t48159\t1\r\n",
      "scaffold43074\t200252\t200583\t1\r\n",
      "scaffold43036\t151198\t151505\t1\r\n",
      "scaffold43\t408188\t408243\t1\r\n",
      "scaffold43\t407668\t407845\t1\r\n",
      "scaffold42788\t87126\t87188\t1\r\n",
      "scaffold42788\t86761\t86949\t1\r\n",
      "scaffold42380\t90843\t91129\t1\r\n",
      "scaffold42326\t136896\t137187\t1\r\n",
      "scaffold42302\t145180\t145356\t1\r\n",
      "scaffold42302\t144946\t145003\t1\r\n",
      "scaffold42164\t95203\t95503\t1\r\n",
      "scaffold41900\t43748\t44054\t1\r\n",
      "scaffold41164\t99229\t99530\t1\r\n",
      "scaffold40856\t88593\t88657\t1\r\n",
      "scaffold40856\t88091\t88283\t1\r\n",
      "scaffold40832\t34428\t34730\t1\r\n",
      "scaffold406\t419660\t419718\t1\r\n",
      "scaffold40404\t66370\t66421\t1\r\n",
      "scaffold40404\t66170\t66221\t1\r\n",
      "scaffold40404\t65770\t65822\t1\r\n",
      "scaffold40404\t64745\t64917\t1\r\n",
      "scaffold40404\t64481\t64537\t1\r\n",
      "scaffold40282\t64161\t64479\t1\r\n",
      "scaffold40254\t31331\t31639\t1\r\n",
      "scaffold4\t76062\t76429\t1\r\n",
      "scaffold39778\t68484\t68538\t1\r\n",
      "scaffold39778\t67963\t68284\t1\r\n",
      "scaffold394\t61557\t61874\t1\r\n",
      "scaffold392\t213620\t213932\t1\r\n",
      "scaffold392\t203896\t204208\t1\r\n",
      "scaffold388\t213296\t213462\t1\r\n",
      "scaffold388\t212291\t212349\t1\r\n",
      "scaffold372\t177146\t177197\t1\r\n",
      "scaffold372\t176916\t176971\t1\r\n",
      "scaffold372\t176523\t176578\t1\r\n",
      "scaffold348\t716142\t716446\t1\r\n",
      "scaffold335\t60531\t60693\t1\r\n",
      "scaffold335\t60010\t60067\t1\r\n",
      "scaffold313\t960532\t960833\t1\r\n",
      "scaffold308\t50213\t50645\t1\r\n",
      "scaffold274\t459522\t460223\t1\r\n",
      "scaffold241\t85098\t85539\t1\r\n",
      "scaffold226\t264062\t264360\t1\r\n",
      "scaffold22\t1882425\t1882588\t1\r\n",
      "scaffold22\t1882179\t1882231\t1\r\n",
      "scaffold219\t171901\t171954\t1\r\n",
      "scaffold219\t171631\t171798\t1\r\n",
      "scaffold203\t259584\t259908\t1\r\n",
      "scaffold200\t35158\t35314\t1\r\n",
      "scaffold200\t34653\t34969\t1\r\n",
      "scaffold198\t550544\t550846\t1\r\n",
      "scaffold193\t66310\t66371\t1\r\n",
      "scaffold193\t66130\t66185\t1\r\n",
      "scaffold193\t65914\t65965\t1\r\n",
      "scaffold1901\t351779\t352066\t1\r\n",
      "scaffold1895\t134450\t134505\t1\r\n",
      "scaffold1895\t134200\t134258\t1\r\n",
      "scaffold1895\t133770\t133821\t1\r\n",
      "scaffold1895\t133360\t133411\t1\r\n",
      "scaffold189\t209552\t209991\t1\r\n",
      "scaffold1835\t389934\t390487\t1\r\n",
      "scaffold1834\t57946\t58006\t1\r\n",
      "scaffold1834\t57569\t57746\t1\r\n",
      "scaffold1827\t304885\t305206\t1\r\n",
      "scaffold1817\t27146\t27462\t1\r\n",
      "scaffold1759\t85559\t85855\t1\r\n",
      "scaffold1752\t17916\t17975\t1\r\n",
      "scaffold1752\t17551\t17709\t1\r\n",
      "scaffold1737\t504567\t504618\t1\r\n",
      "scaffold1737\t504057\t504108\t1\r\n",
      "scaffold1737\t503502\t503553\t1\r\n",
      "scaffold1719\t330285\t330484\t1\r\n",
      "scaffold1719\t330025\t330079\t1\r\n",
      "scaffold1656\t72788\t72845\t1\r\n",
      "scaffold1656\t72301\t72470\t1\r\n",
      "scaffold1654\t31753\t32049\t1\r\n",
      "scaffold163\t482904\t483345\t1\r\n",
      "scaffold163\t467170\t467351\t1\r\n",
      "scaffold163\t466915\t466973\t1\r\n",
      "scaffold1627\t214323\t214619\t1\r\n",
      "scaffold1625\t96879\t97439\t1\r\n",
      "scaffold1532\t1408496\t1408798\t1\r\n",
      "scaffold1503\t67189\t67517\t1\r\n",
      "scaffold150\t611097\t611397\t1\r\n",
      "scaffold1497\t110217\t110525\t1\r\n",
      "scaffold1493\t16031\t16478\t1\r\n",
      "scaffold1484\t346732\t346793\t1\r\n",
      "scaffold1484\t346442\t346623\t1\r\n",
      "scaffold1437\t20874\t21168\t1\r\n",
      "scaffold142\t237803\t238097\t1\r\n",
      "scaffold1409\t139629\t139680\t1\r\n",
      "scaffold1409\t139329\t139505\t1\r\n",
      "scaffold1391\t190523\t190935\t1\r\n",
      "scaffold1367\t121440\t121625\t1\r\n",
      "scaffold1367\t121175\t121233\t1\r\n",
      "scaffold1324\t356489\t356781\t1\r\n",
      "scaffold1322\t409152\t409472\t1\r\n",
      "scaffold1307\t652152\t652606\t1\r\n",
      "scaffold1264\t68697\t69025\t1\r\n",
      "scaffold1255\t198376\t198802\t1\r\n",
      "scaffold1249\t494779\t495082\t1\r\n",
      "scaffold1235\t34383\t34443\t1\r\n",
      "scaffold1235\t34089\t34268\t1\r\n",
      "scaffold1235\t26466\t26785\t1\r\n",
      "scaffold1210\t165042\t165474\t1\r\n",
      "scaffold1204\t66531\t66832\t1\r\n",
      "scaffold1188\t461425\t461738\t1\r\n",
      "scaffold1123\t40268\t40589\t1\r\n",
      "scaffold1077\t401205\t401534\t1\r\n",
      "scaffold1041\t199217\t199498\t1\r\n",
      "scaffold1018\t367618\t367674\t1\r\n",
      "scaffold1018\t367127\t367319\t1\r\n",
      "scaffold1016\t249436\t249737\t1\r\n",
      "scaffold101\t610559\t610740\t1\r\n",
      "scaffold101\t610174\t610236\t1\r\n",
      "scaffold100\t804406\t804960\t1\r\n"
     ]
    }
   ],
   "source": [
    "!bedtools merge -c 2 -o count \\\n",
    "-i /Users/sr320/git-repos/paper-Temp-stress/ipynb/analyses/mergHYPOcatsort.bed | sort -nrk4"
   ]
  },
  {
   "cell_type": "code",
   "execution_count": null,
   "metadata": {
    "collapsed": true
   },
   "outputs": [],
   "source": []
  },
  {
   "cell_type": "code",
   "execution_count": null,
   "metadata": {
    "collapsed": true
   },
   "outputs": [],
   "source": []
  },
  {
   "cell_type": "code",
   "execution_count": 1,
   "metadata": {
    "collapsed": false
   },
   "outputs": [
    {
     "name": "stdout",
     "output_type": "stream",
     "text": [
      "==> ./data/2014.07.02.colson/genomeBrowserTracks/logFC_HS-preHS/2014.07.02.2M.bedGraph <==\r\n",
      "track type=bedGraph name=\"2M\" description=\"2M\" visibility=full color=100,100,0 altColor=0,100,200 priority=20\r\n",
      "scaffold1\t52347\t52397\t-0.835068225129123\r\n",
      "scaffold1\t52472\t52522\t-0.528877734264873\r\n",
      "scaffold1\t52597\t52650\t-0.570240181191101\r\n",
      "scaffold1\t52741\t52798\t-0.631246435590896\r\n",
      "scaffold1\t52851\t52916\t-0.647357503394735\r\n",
      "scaffold1\t52996\t53057\t-0.657527480568186\r\n",
      "scaffold1\t53101\t53153\t-1.04675017188359\r\n",
      "scaffold1\t53241\t53291\t-0.676510028159182\r\n",
      "scaffold1\t53351\t53406\t-0.474668524468244\r\n",
      "\r\n",
      "==> ./data/2014.07.02.colson/genomeBrowserTracks/logFC_HS-preHS/2014.07.02.2M_sig.bedGraph <==\r\n",
      "track type=bedGraph name=\"2M_sig\" description=\"2M_sig\" visibility=full color=100,100,0 altColor=0,100,200 priority=20\r\n",
      "scaffold1\t163391\t163444\t-1.19635354862016\r\n",
      "scaffold1\t167390\t167448\t-1.34858424227208\r\n",
      "scaffold1\t177036\t177092\t-1.32513261026528\r\n",
      "scaffold1\t180263\t180313\t-1.59644601437398\r\n",
      "scaffold1\t184151\t184202\t-1.36802539236446\r\n",
      "scaffold1\t207852\t207911\t-1.4489540693628\r\n",
      "scaffold1\t221645\t221697\t-1.19168816975966\r\n",
      "scaffold100\t20261\t20311\t-1.38705592724581\r\n",
      "scaffold100\t43707\t43766\t-1.94554287545546\r\n",
      "\r\n",
      "==> ./data/2014.07.02.colson/genomeBrowserTracks/logFC_HS-preHS/2014.07.02.4M.bedGraph <==\r\n",
      "track type=bedGraph name=\"4M\" description=\"4M\" visibility=full color=100,100,0 altColor=0,100,200 priority=20\r\n",
      "scaffold1\t52347\t52397\t-0.607382638604216\r\n",
      "scaffold1\t52472\t52522\t-0.517778984565597\r\n",
      "scaffold1\t52597\t52650\t-0.614441888334089\r\n",
      "scaffold1\t52741\t52798\t-1.0125546293844\r\n",
      "scaffold1\t52851\t52916\t0.170736223516649\r\n",
      "scaffold1\t52996\t53057\t-1.05130751246805\r\n",
      "scaffold1\t53101\t53153\t-0.793057755493946\r\n",
      "scaffold1\t53241\t53291\t-0.661392663616478\r\n",
      "scaffold1\t53351\t53406\t-0.643892831771129\r\n",
      "\r\n",
      "==> ./data/2014.07.02.colson/genomeBrowserTracks/logFC_HS-preHS/2014.07.02.4M_sig.bedGraph <==\r\n",
      "track type=bedGraph name=\"4M_sig\" description=\"4M_sig\" visibility=full color=100,100,0 altColor=0,100,200 priority=20\r\n",
      "scaffold1\t55723\t55780\t-1.14983078196614\r\n",
      "scaffold1\t162896\t162952\t1.31051906307266\r\n",
      "scaffold1\t165162\t165215\t-1.24601772855566\r\n",
      "scaffold1\t171392\t171453\t-1.22260744814979\r\n",
      "scaffold1\t174020\t174073\t1.13065801555915\r\n",
      "scaffold1\t174287\t174343\t-1.69319890151177\r\n",
      "scaffold1\t176273\t176334\t-1.72785163633438\r\n",
      "scaffold1\t178210\t178267\t1.2199265031441\r\n",
      "scaffold1\t183256\t183318\t-1.30551922539134\r\n",
      "\r\n",
      "==> ./data/2014.07.02.colson/genomeBrowserTracks/logFC_HS-preHS/2014.07.02.6M.bedGraph <==\r\n",
      "track type=bedGraph name=\"6M\" description=\"6M\" visibility=full color=100,100,0 altColor=0,100,200 priority=20\r\n",
      "scaffold1\t52347\t52397\t-0.445639866598264\r\n",
      "scaffold1\t52472\t52522\t-0.0688012470051458\r\n",
      "scaffold1\t52597\t52650\t-0.0587539333226483\r\n",
      "scaffold1\t52741\t52798\t-0.117394256248887\r\n",
      "scaffold1\t52851\t52916\t0.106790241643465\r\n",
      "scaffold1\t52996\t53057\t-0.947285682260127\r\n",
      "scaffold1\t53101\t53153\t-0.40187966219701\r\n",
      "scaffold1\t53241\t53291\t-0.218378761377913\r\n",
      "scaffold1\t53351\t53406\t-0.260193541648929\r\n",
      "\r\n",
      "==> ./data/2014.07.02.colson/genomeBrowserTracks/logFC_HS-preHS/2014.07.02.6M_sig.bedGraph <==\r\n",
      "track type=bedGraph name=\"6M_sig\" description=\"6M_sig\" visibility=full color=100,100,0 altColor=0,100,200 priority=20\r\n",
      "scaffold1\t54599\t54654\t-1.38187662416007\r\n",
      "scaffold1\t162129\t162191\t1.85685479189849\r\n",
      "scaffold1\t163536\t163586\t-1.15032035523765\r\n",
      "scaffold1\t172654\t172714\t1.33561271440876\r\n",
      "scaffold1\t174287\t174343\t-1.62903936976887\r\n",
      "scaffold1\t178075\t178128\t1.42323539316231\r\n",
      "scaffold1\t178685\t178740\t1.30886296151914\r\n",
      "scaffold1\t184271\t184330\t-1.20699853451878\r\n",
      "scaffold1\t184661\t184715\t-1.61107459826899\r\n"
     ]
    }
   ],
   "source": [
    "!head ./data/2014.07.02.colson/genomeBrowserTracks/logFC_HS-preHS/*"
   ]
  },
  {
   "cell_type": "code",
   "execution_count": null,
   "metadata": {
    "collapsed": true
   },
   "outputs": [],
   "source": []
  },
  {
   "cell_type": "code",
   "execution_count": null,
   "metadata": {
    "collapsed": true
   },
   "outputs": [],
   "source": []
  },
  {
   "cell_type": "code",
   "execution_count": 2,
   "metadata": {
    "collapsed": false
   },
   "outputs": [
    {
     "name": "stdout",
     "output_type": "stream",
     "text": [
      "  697753 ./data/2014.07.02.colson/genomeBrowserTracks/logFC_HS-preHS/2014.07.02.2M.bedGraph\n",
      "   10028 ./data/2014.07.02.colson/genomeBrowserTracks/logFC_HS-preHS/2014.07.02.2M_sig.bedGraph\n",
      "  697753 ./data/2014.07.02.colson/genomeBrowserTracks/logFC_HS-preHS/2014.07.02.4M.bedGraph\n",
      "   10148 ./data/2014.07.02.colson/genomeBrowserTracks/logFC_HS-preHS/2014.07.02.4M_sig.bedGraph\n",
      "  697753 ./data/2014.07.02.colson/genomeBrowserTracks/logFC_HS-preHS/2014.07.02.6M.bedGraph\n",
      "   11690 ./data/2014.07.02.colson/genomeBrowserTracks/logFC_HS-preHS/2014.07.02.6M_sig.bedGraph\n",
      " 2125125 total\n"
     ]
    }
   ],
   "source": [
    "!wc -l ./data/2014.07.02.colson/genomeBrowserTracks/logFC_HS-preHS/*"
   ]
  },
  {
   "cell_type": "code",
   "execution_count": 3,
   "metadata": {
    "collapsed": false
   },
   "outputs": [
    {
     "name": "stdout",
     "output_type": "stream",
     "text": [
      "./data/2014.07.02.colson/genomeBrowserTracks/logFC_HS-preHS/2014.07.02.2M.bedGraph:338556\n",
      "./data/2014.07.02.colson/genomeBrowserTracks/logFC_HS-preHS/2014.07.02.2M_sig.bedGraph:7224\n",
      "./data/2014.07.02.colson/genomeBrowserTracks/logFC_HS-preHS/2014.07.02.4M.bedGraph:344889\n",
      "./data/2014.07.02.colson/genomeBrowserTracks/logFC_HS-preHS/2014.07.02.4M_sig.bedGraph:6560\n",
      "./data/2014.07.02.colson/genomeBrowserTracks/logFC_HS-preHS/2014.07.02.6M.bedGraph:340387\n",
      "./data/2014.07.02.colson/genomeBrowserTracks/logFC_HS-preHS/2014.07.02.6M_sig.bedGraph:7645\n"
     ]
    }
   ],
   "source": [
    "!fgrep \"-\" -c ./data/2014.07.02.colson/genomeBrowserTracks/logFC_HS-preHS/*"
   ]
  },
  {
   "cell_type": "code",
   "execution_count": 2,
   "metadata": {
    "collapsed": false
   },
   "outputs": [
    {
     "name": "stdout",
     "output_type": "stream",
     "text": [
      "==> ./data/2014.06.20.gt1.8_gt3adjactentProbes.gff <==\r\n",
      "scaffold100\tOysterV9\tprobes\t636974\t637034\t1\t.\t.\tscaffold100:+:636974\r",
      "\r\n",
      "scaffold100\tOysterV9\tprobes\t637084\t637143\t1\t.\t.\tscaffold100:+:637084\r",
      "\r\n",
      "scaffold100\tOysterV9\tprobes\t637209\t637276\t1\t.\t.\tscaffold100:+:637209\r",
      "\r\n",
      "scaffold102\tOysterV9\tprobes\t303196\t303251\t1\t.\t.\tscaffold102:+:303196\r",
      "\r\n",
      "scaffold102\tOysterV9\tprobes\t303336\t303394\t1\t.\t.\tscaffold102:+:303336\r",
      "\r\n",
      "scaffold102\tOysterV9\tprobes\t303521\t303576\t1\t.\t.\tscaffold102:+:303521\r",
      "\r\n",
      "scaffold1032\tOysterV9\tprobes\t634021\t634085\t1\t.\t.\tscaffold1032:+:634021\r",
      "\r\n",
      "scaffold1032\tOysterV9\tprobes\t634156\t634218\t1\t.\t.\tscaffold1032:+:634156\r",
      "\r\n",
      "scaffold1032\tOysterV9\tprobes\t634281\t634333\t1\t.\t.\tscaffold1032:+:634281\r",
      "\r\n",
      "scaffold1032\tOysterV9\tprobes\t700173\t700230\t1\t.\t.\tscaffold1032:+:700173\r",
      "\r\n",
      "\r\n",
      "==> ./data/2014.06.20.lt1.8_gt3adjactentProbes.gff <==\r\n",
      "scaffold100\tOysterV9\tprobes\t804272\t804322\t1\t.\t.\tscaffold100:+:804272\r",
      "\r\n",
      "scaffold100\tOysterV9\tprobes\t804407\t804457\t1\t.\t.\tscaffold100:+:804407\r",
      "\r\n",
      "scaffold100\tOysterV9\tprobes\t804532\t804582\t1\t.\t.\tscaffold100:+:804532\r",
      "\r\n",
      "scaffold100\tOysterV9\tprobes\t804652\t804703\t1\t.\t.\tscaffold100:+:804652\r",
      "\r\n",
      "scaffold100\tOysterV9\tprobes\t804787\t804844\t1\t.\t.\tscaffold100:+:804787\r",
      "\r\n",
      "scaffold100\tOysterV9\tprobes\t804897\t804960\t1\t.\t.\tscaffold100:+:804897\r",
      "\r\n",
      "scaffold100\tOysterV9\tprobes\t805157\t805213\t1\t.\t.\tscaffold100:+:805157\r",
      "\r\n",
      "scaffold100\tOysterV9\tprobes\t805287\t805337\t1\t.\t.\tscaffold100:+:805287\r",
      "\r\n",
      "scaffold100\tOysterV9\tprobes\t805402\t805452\t1\t.\t.\tscaffold100:+:805402\r",
      "\r\n",
      "scaffold1016\tOysterV9\tprobes\t202657\t202722\t1\t.\t.\tscaffold1016:+:202657\r",
      "\r\n"
     ]
    }
   ],
   "source": [
    "\n",
    "!head ./data/2014.06.20*"
   ]
  },
  {
   "cell_type": "code",
   "execution_count": 4,
   "metadata": {
    "collapsed": false
   },
   "outputs": [
    {
     "name": "stdout",
     "output_type": "stream",
     "text": [
      "     164 ./data/2014.06.20.gt1.8_gt3adjactentProbes.gff\r\n",
      "     362 ./data/2014.06.20.lt1.8_gt3adjactentProbes.gff\r\n",
      "     526 total\r\n"
     ]
    }
   ],
   "source": [
    "!wc -l ./data/2014.06.20*"
   ]
  },
  {
   "cell_type": "code",
   "execution_count": 5,
   "metadata": {
    "collapsed": false
   },
   "outputs": [
    {
     "name": "stdout",
     "output_type": "stream",
     "text": [
      "scaffold100\tOysterV9\tprobes\t804272\t804322\t1\t.\t.\tscaffold100:+:804272\r",
      "\r\n",
      "scaffold100\tOysterV9\tprobes\t804407\t804457\t1\t.\t.\tscaffold100:+:804407\r",
      "\r\n",
      "scaffold100\tOysterV9\tprobes\t804532\t804582\t1\t.\t.\tscaffold100:+:804532\r",
      "\r\n",
      "scaffold100\tOysterV9\tprobes\t804652\t804703\t1\t.\t.\tscaffold100:+:804652\r",
      "\r\n",
      "scaffold100\tOysterV9\tprobes\t804787\t804844\t1\t.\t.\tscaffold100:+:804787\r",
      "\r\n",
      "scaffold100\tOysterV9\tprobes\t804897\t804960\t1\t.\t.\tscaffold100:+:804897\r",
      "\r\n",
      "scaffold100\tOysterV9\tprobes\t805157\t805213\t1\t.\t.\tscaffold100:+:805157\r",
      "\r\n",
      "scaffold100\tOysterV9\tprobes\t805287\t805337\t1\t.\t.\tscaffold100:+:805287\r",
      "\r\n",
      "scaffold100\tOysterV9\tprobes\t805402\t805452\t1\t.\t.\tscaffold100:+:805402\r",
      "\r\n",
      "scaffold1016\tOysterV9\tprobes\t202657\t202722\t1\t.\t.\tscaffold1016:+:202657\r",
      "\r\n"
     ]
    }
   ],
   "source": [
    "!head ./data/2014.06.20.lt1.8_gt3adjactentProbes.gff\n"
   ]
  },
  {
   "cell_type": "markdown",
   "metadata": {},
   "source": [
    "# Merging Adjacent "
   ]
  },
  {
   "cell_type": "code",
   "execution_count": 20,
   "metadata": {
    "collapsed": false
   },
   "outputs": [
    {
     "name": "stdout",
     "output_type": "stream",
     "text": [
      "     111\r\n"
     ]
    }
   ],
   "source": [
    "!bedtools merge -d 100 -i ./data/2014.06.20.lt1.8_gt3adjactentProbes.gff | wc -l\n",
    "\n"
   ]
  },
  {
   "cell_type": "code",
   "execution_count": 21,
   "metadata": {
    "collapsed": false
   },
   "outputs": [
    {
     "name": "stdout",
     "output_type": "stream",
     "text": [
      "      54\r\n"
     ]
    }
   ],
   "source": [
    "!bedtools merge -d 100 -i ./data/2014.06.20.gt1.8_gt3adjactentProbes.gff | wc -l\n",
    "\n"
   ]
  },
  {
   "cell_type": "code",
   "execution_count": 26,
   "metadata": {
    "collapsed": false
   },
   "outputs": [
    {
     "name": "stdout",
     "output_type": "stream",
     "text": [
      "      12 ./data/2014.07.02.colson/genomeBrowserTracks/threeOrMoreAdjacentSigProbes/2014.07.02.2M_Hyper_3plusAdjactentProbes.gff\r\n",
      "     310 ./data/2014.07.02.colson/genomeBrowserTracks/threeOrMoreAdjacentSigProbes/2014.07.02.2M_Hypo_3plusAdjactentProbes.gff\r\n",
      "      31 ./data/2014.07.02.colson/genomeBrowserTracks/threeOrMoreAdjacentSigProbes/2014.07.02.4M_Hyper_3plusAdjactentProbes.gff\r\n",
      "     127 ./data/2014.07.02.colson/genomeBrowserTracks/threeOrMoreAdjacentSigProbes/2014.07.02.4M_Hypo_3plusAdjactentProbes.gff\r\n",
      "      18 ./data/2014.07.02.colson/genomeBrowserTracks/threeOrMoreAdjacentSigProbes/2014.07.02.6M_Hyper_3plusAdjactentProbes.gff\r\n",
      "     108 ./data/2014.07.02.colson/genomeBrowserTracks/threeOrMoreAdjacentSigProbes/2014.07.02.6M_Hypo_3plusAdjactentProbes.gff\r\n",
      "     606 total\r\n"
     ]
    }
   ],
   "source": [
    "!wc -l  ./data/2014.07.02.colson/genomeBrowserTracks/threeOrMoreAdjacentSigProbes/2014.07.02.*\n"
   ]
  },
  {
   "cell_type": "code",
   "execution_count": 31,
   "metadata": {
    "collapsed": false
   },
   "outputs": [
    {
     "name": "stdout",
     "output_type": "stream",
     "text": [
      "./data/2014.07.02.colson/genomeBrowserTracks/threeOrMoreAdjacentSigProbes/2014.07.02.2M_Hyper_3plusAdjactentProbes.gff\n",
      "       4\n",
      "./data/2014.07.02.colson/genomeBrowserTracks/threeOrMoreAdjacentSigProbes/2014.07.02.2M_Hypo_3plusAdjactentProbes.gff\n",
      "     108\n",
      "./data/2014.07.02.colson/genomeBrowserTracks/threeOrMoreAdjacentSigProbes/2014.07.02.4M_Hyper_3plusAdjactentProbes.gff\n",
      "      10\n",
      "./data/2014.07.02.colson/genomeBrowserTracks/threeOrMoreAdjacentSigProbes/2014.07.02.4M_Hypo_3plusAdjactentProbes.gff\n",
      "      48\n",
      "./data/2014.07.02.colson/genomeBrowserTracks/threeOrMoreAdjacentSigProbes/2014.07.02.6M_Hyper_3plusAdjactentProbes.gff\n",
      "       9\n",
      "./data/2014.07.02.colson/genomeBrowserTracks/threeOrMoreAdjacentSigProbes/2014.07.02.6M_Hypo_3plusAdjactentProbes.gff\n",
      "      53\n"
     ]
    }
   ],
   "source": [
    "%%bash\n",
    "for f in ./data/2014.07.02.colson/genomeBrowserTracks/threeOrMoreAdjacentSigProbes/2014.07.02.*\n",
    "do\n",
    "echo $f\n",
    "bedtools merge -d 100 -i $f | wc -l\n",
    "done\n",
    "\n",
    "\n",
    "\n"
   ]
  },
  {
   "cell_type": "markdown",
   "metadata": {},
   "source": [
    "# Creating Merged Features 3plus"
   ]
  },
  {
   "cell_type": "code",
   "execution_count": 14,
   "metadata": {
    "collapsed": false
   },
   "outputs": [
    {
     "name": "stdout",
     "output_type": "stream",
     "text": [
      "     310 ./data/2014.07.02.colson/genomeBrowserTracks/threeOrMoreAdjacentSigProbes/2014.07.02.2M_Hypo_3plusAdjactentProbes.gff\r\n"
     ]
    }
   ],
   "source": [
    "!wc -l ./data/2014.07.02.colson/genomeBrowserTracks/threeOrMoreAdjacentSigProbes/2014.07.02.2M_Hypo_3plusAdjactentProbes.gff"
   ]
  },
  {
   "cell_type": "code",
   "execution_count": 36,
   "metadata": {
    "collapsed": false
   },
   "outputs": [
    {
     "name": "stdout",
     "output_type": "stream",
     "text": [
      "scaffold1016\t249436\t249737\n",
      "scaffold1041\t199217\t199498\n",
      "scaffold1188\t461425\t461738\n",
      "scaffold12\t243960\t244376\n",
      "scaffold1210\t165042\t165474\n",
      "scaffold1235\t26466\t26785\n",
      "scaffold1255\t198376\t198802\n",
      "scaffold1307\t652152\t652606\n",
      "scaffold1322\t409152\t409472\n",
      "scaffold1367\t121175\t121233\n",
      "     108 ./analyses/2M_3plusmerge_Hypo.gff\n"
     ]
    }
   ],
   "source": [
    "!bedtools merge -d 100 -i \\\n",
    "./data/2014.07.02.colson/genomeBrowserTracks/threeOrMoreAdjacentSigProbes/2014.07.02.2M_Hypo_3plusAdjactentProbes.gff \\\n",
    "> ./analyses/2M_3plusmerge_Hypo.gff \n",
    "!head ./analyses/2M_3plusmerge_Hypo.gff \n",
    "!wc -l ./analyses/2M_3plusmerge_Hypo.gff \n"
   ]
  },
  {
   "cell_type": "code",
   "execution_count": 37,
   "metadata": {
    "collapsed": false
   },
   "outputs": [
    {
     "name": "stdout",
     "output_type": "stream",
     "text": [
      "scaffold1583\t976276\t976596\n",
      "scaffold257\t1235165\t1235481\n",
      "scaffold43954\t139271\t139589\n",
      "scaffold801\t338541\t338853\n",
      "       4 ./analyses/2M_3plusmerge_Hyper.gff\n"
     ]
    }
   ],
   "source": [
    "!bedtools merge -d 100 -i \\\n",
    "./data/2014.07.02.colson/genomeBrowserTracks/threeOrMoreAdjacentSigProbes/2014.07.02.2M_Hyper_3plusAdjactentProbes.gff \\\n",
    "> ./analyses/2M_3plusmerge_Hyper.gff \n",
    "!head ./analyses/2M_3plusmerge_Hyper.gff \n",
    "!wc -l ./analyses/2M_3plusmerge_Hyper.gff "
   ]
  },
  {
   "cell_type": "code",
   "execution_count": 38,
   "metadata": {
    "collapsed": false
   },
   "outputs": [
    {
     "name": "stdout",
     "output_type": "stream",
     "text": [
      "scaffold100\t804406\t804960\n",
      "scaffold1018\t367127\t367319\n",
      "scaffold1018\t367618\t367674\n",
      "scaffold1077\t401205\t401534\n",
      "scaffold12\t244080\t244376\n",
      "scaffold1324\t356489\t356781\n",
      "scaffold1409\t139329\t139505\n",
      "scaffold1409\t139629\t139680\n",
      "scaffold142\t656144\t656460\n",
      "scaffold1484\t346442\t346623\n",
      "      48 ./analyses/4M_3plusmerge_Hypo.gff\n"
     ]
    }
   ],
   "source": [
    "!bedtools merge -d 100 -i \\\n",
    "./data/2014.07.02.colson/genomeBrowserTracks/threeOrMoreAdjacentSigProbes/2014.07.02.4M_Hypo_3plusAdjactentProbes.gff \\\n",
    "> ./analyses/4M_3plusmerge_Hypo.gff \n",
    "!head ./analyses/4M_3plusmerge_Hypo.gff \n",
    "!wc -l ./analyses/4M_3plusmerge_Hypo.gff "
   ]
  },
  {
   "cell_type": "code",
   "execution_count": 39,
   "metadata": {
    "collapsed": false
   },
   "outputs": [
    {
     "name": "stdout",
     "output_type": "stream",
     "text": [
      "scaffold1241\t28111\t28419\n",
      "scaffold1447\t305772\t306206\n",
      "scaffold1805\t257176\t257496\n",
      "scaffold257\t1235165\t1235481\n",
      "scaffold40230\t41604\t41898\n",
      "scaffold41982\t74367\t74671\n",
      "scaffold63\t426683\t426993\n",
      "scaffold70\t774778\t775094\n",
      "scaffold801\t338037\t338345\n",
      "scaffold801\t339443\t339729\n",
      "      10 ./analyses/4M_3plusmerge_Hyper.gff\n"
     ]
    }
   ],
   "source": [
    "!bedtools merge -d 100 -i \\\n",
    "./data/2014.07.02.colson/genomeBrowserTracks/threeOrMoreAdjacentSigProbes/2014.07.02.4M_Hyper_3plusAdjactentProbes.gff \\\n",
    "> ./analyses/4M_3plusmerge_Hyper.gff \n",
    "!head ./analyses/4M_3plusmerge_Hyper.gff \n",
    "!wc -l ./analyses/4M_3plusmerge_Hyper.gff "
   ]
  },
  {
   "cell_type": "code",
   "execution_count": 40,
   "metadata": {
    "collapsed": false
   },
   "outputs": [
    {
     "name": "stdout",
     "output_type": "stream",
     "text": [
      "scaffold101\t610174\t610236\n",
      "scaffold101\t610559\t610740\n",
      "scaffold1123\t40268\t40589\n",
      "scaffold1204\t66531\t66832\n",
      "scaffold1235\t34089\t34268\n",
      "scaffold1235\t34383\t34443\n",
      "scaffold1249\t494779\t495082\n",
      "scaffold1264\t68697\t69025\n",
      "scaffold1493\t16031\t16478\n",
      "scaffold1719\t330025\t330079\n",
      "      53 ./analyses/6M_3plusmerge_Hypo.gff\n"
     ]
    }
   ],
   "source": [
    "!bedtools merge -d 100 -i \\\n",
    "./data/2014.07.02.colson/genomeBrowserTracks/threeOrMoreAdjacentSigProbes/2014.07.02.6M_Hypo_3plusAdjactentProbes.gff \\\n",
    "> ./analyses/6M_3plusmerge_Hypo.gff \n",
    "!head ./analyses/6M_3plusmerge_Hypo.gff \n",
    "!wc -l ./analyses/6M_3plusmerge_Hypo.gff "
   ]
  },
  {
   "cell_type": "code",
   "execution_count": 41,
   "metadata": {
    "collapsed": false
   },
   "outputs": [
    {
     "name": "stdout",
     "output_type": "stream",
     "text": [
      "scaffold1737\t485256\t485565\n",
      "scaffold1894\t222981\t223032\n",
      "scaffold1894\t223601\t223653\n",
      "scaffold1894\t224777\t224838\n",
      "scaffold392\t326519\t326818\n",
      "scaffold433\t204898\t205194\n",
      "scaffold544\t44676\t44853\n",
      "scaffold544\t45028\t45086\n",
      "scaffold854\t353009\t353316\n",
      "       9 ./analyses/6M_3plusmerge_Hyper.gff\n"
     ]
    }
   ],
   "source": [
    "!bedtools merge -d 100 -i \\\n",
    "./data/2014.07.02.colson/genomeBrowserTracks/threeOrMoreAdjacentSigProbes/2014.07.02.6M_Hyper_3plusAdjactentProbes.gff \\\n",
    "> ./analyses/6M_3plusmerge_Hyper.gff \n",
    "!head ./analyses/6M_3plusmerge_Hyper.gff \n",
    "!wc -l /analyses/6M_3plusmerge_Hyper.gff "
   ]
  },
  {
   "cell_type": "code",
   "execution_count": 45,
   "metadata": {
    "collapsed": false
   },
   "outputs": [
    {
     "name": "stdout",
     "output_type": "stream",
     "text": [
      "./analyses/2M_3plusmerge_Hyper.gff ./analyses/4M_3plusmerge_Hypo.gff\r\n",
      "./analyses/2M_3plusmerge_Hypo.gff  ./analyses/6M_3plusmerge_Hyper.gff\r\n",
      "./analyses/4M_3plusmerge_Hyper.gff ./analyses/6M_3plusmerge_Hypo.gff\r\n"
     ]
    }
   ],
   "source": [
    "!ls ./analyses/[2-6]*.gff"
   ]
  },
  {
   "cell_type": "code",
   "execution_count": 3,
   "metadata": {
    "collapsed": false
   },
   "outputs": [
    {
     "name": "stdout",
     "output_type": "stream",
     "text": [
      "   3 scaffold622\r\n",
      "   3 scaffold801\r\n",
      "   4 scaffold1737\r\n",
      "   4 scaffold1895\r\n",
      "   4 scaffold521\r\n",
      "   4 scaffold542\r\n",
      "   4 scaffold616\r\n",
      "   5 scaffold247\r\n",
      "   5 scaffold40404\r\n",
      "   7 scaffold406\r\n"
     ]
    }
   ],
   "source": [
    "!cat ./analyses/[2-6]*.gff | cut -f1 | sort | uniq -c | sort | tail"
   ]
  },
  {
   "cell_type": "markdown",
   "metadata": {},
   "source": [
    "# Check to see how this was done"
   ]
  },
  {
   "cell_type": "code",
   "execution_count": 4,
   "metadata": {
    "collapsed": false
   },
   "outputs": [
    {
     "name": "stdout",
     "output_type": "stream",
     "text": [
      "track type=bedGraph name=\"6M_sig\" description=\"6M_sig\" visibility=full color=100,100,0 altColor=0,100,200 priority=20\r\n",
      "scaffold1\t54599\t54654\t-1.38187662416007\r\n",
      "scaffold1\t162129\t162191\t1.85685479189849\r\n",
      "scaffold1\t163536\t163586\t-1.15032035523765\r\n",
      "scaffold1\t172654\t172714\t1.33561271440876\r\n",
      "scaffold1\t174287\t174343\t-1.62903936976887\r\n",
      "scaffold1\t178075\t178128\t1.42323539316231\r\n",
      "scaffold1\t178685\t178740\t1.30886296151914\r\n",
      "scaffold1\t184271\t184330\t-1.20699853451878\r\n",
      "scaffold1\t184661\t184715\t-1.61107459826899\r\n"
     ]
    }
   ],
   "source": [
    "!head /Users/sr320/git-repos/paper-Temp-stress/ipynb/data/canonical/2014.07.02.6M_sig.bedGraph"
   ]
  },
  {
   "cell_type": "code",
   "execution_count": 5,
   "metadata": {
    "collapsed": false
   },
   "outputs": [
    {
     "name": "stdout",
     "output_type": "stream",
     "text": [
      "   11690   46764  509521 /Users/sr320/git-repos/paper-Temp-stress/ipynb/data/canonical/2014.07.02.6M_sig.bedGraph\r\n"
     ]
    }
   ],
   "source": [
    "!wc /Users/sr320/git-repos/paper-Temp-stress/ipynb/data/canonical/2014.07.02.6M_sig.bedGraph"
   ]
  },
  {
   "cell_type": "code",
   "execution_count": 12,
   "metadata": {
    "collapsed": false
   },
   "outputs": [
    {
     "name": "stdout",
     "output_type": "stream",
     "text": [
      "   10287\r\n"
     ]
    }
   ],
   "source": [
    "!bedtools merge -d 500 -i \\\n",
    "/Users/sr320/git-repos/paper-Temp-stress/ipynb/data/canonical/2014.07.02.6M_sig.bedGraph \\\n",
    "| wc -l"
   ]
  },
  {
   "cell_type": "code",
   "execution_count": null,
   "metadata": {
    "collapsed": false
   },
   "outputs": [],
   "source": []
  }
 ],
 "metadata": {
  "kernelspec": {
   "display_name": "Python 2",
   "language": "python",
   "name": "python2"
  },
  "language_info": {
   "codemirror_mode": {
    "name": "ipython",
    "version": 2
   },
   "file_extension": ".py",
   "mimetype": "text/x-python",
   "name": "python",
   "nbconvert_exporter": "python",
   "pygments_lexer": "ipython2",
   "version": "2.7.10"
  }
 },
 "nbformat": 4,
 "nbformat_minor": 0
}
