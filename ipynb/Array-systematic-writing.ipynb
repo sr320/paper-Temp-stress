{
 "cells": [
  {
   "cell_type": "code",
   "execution_count": 2,
   "metadata": {
    "collapsed": false
   },
   "outputs": [
    {
     "name": "stdout",
     "output_type": "stream",
     "text": [
      "   10028 /Users/sr320/git-repos/paper-Temp-stress/genome-feature-tracks/2014.07.02.2M_sig.bedGraph\r\n",
      "   10148 /Users/sr320/git-repos/paper-Temp-stress/genome-feature-tracks/2014.07.02.4M_sig.bedGraph\r\n",
      "   11690 /Users/sr320/git-repos/paper-Temp-stress/genome-feature-tracks/2014.07.02.6M_sig.bedGraph\r\n",
      "   31866 total\r\n"
     ]
    }
   ],
   "source": [
    "!wc -l /Users/sr320/git-repos/paper-Temp-stress/genome-feature-tracks/*\n",
    "\n",
    "\n",
    "\n"
   ]
  },
  {
   "cell_type": "code",
   "execution_count": 3,
   "metadata": {
    "collapsed": false
   },
   "outputs": [
    {
     "name": "stdout",
     "output_type": "stream",
     "text": [
      "   10028 /Users/sr320/git-repos/paper-Temp-stress/ipynb/data/canonical/2014.07.02.2M_sig.bedGraph\n",
      "   10148 /Users/sr320/git-repos/paper-Temp-stress/ipynb/data/canonical/2014.07.02.4M_sig.bedGraph\n",
      "   11690 /Users/sr320/git-repos/paper-Temp-stress/ipynb/data/canonical/2014.07.02.6M_sig.bedGraph\n",
      "       4 /Users/sr320/git-repos/paper-Temp-stress/ipynb/data/canonical/2M_3plusmerge_Hyper.bed\n",
      "     108 /Users/sr320/git-repos/paper-Temp-stress/ipynb/data/canonical/2M_3plusmerge_Hypo.bed\n",
      "      10 /Users/sr320/git-repos/paper-Temp-stress/ipynb/data/canonical/4M_3plusmerge_Hyper.bed\n",
      "      48 /Users/sr320/git-repos/paper-Temp-stress/ipynb/data/canonical/4M_3plusmerge_Hypo.bed\n",
      "       9 /Users/sr320/git-repos/paper-Temp-stress/ipynb/data/canonical/6M_3plusmerge_Hyper.bed\n",
      "      53 /Users/sr320/git-repos/paper-Temp-stress/ipynb/data/canonical/6M_3plusmerge_Hypo.bed\n",
      "   32098 total\n"
     ]
    }
   ],
   "source": [
    "!wc -l /Users/sr320/git-repos/paper-Temp-stress/ipynb/data/canonical/*"
   ]
  },
  {
   "cell_type": "code",
   "execution_count": 1,
   "metadata": {
    "collapsed": false
   },
   "outputs": [
    {
     "name": "stdout",
     "output_type": "stream",
     "text": [
      "==> ./data/2014.07.02.colson/genomeBrowserTracks/logFC_HS-preHS/2014.07.02.2M.bedGraph <==\r\n",
      "track type=bedGraph name=\"2M\" description=\"2M\" visibility=full color=100,100,0 altColor=0,100,200 priority=20\r\n",
      "scaffold1\t52347\t52397\t-0.835068225129123\r\n",
      "scaffold1\t52472\t52522\t-0.528877734264873\r\n",
      "scaffold1\t52597\t52650\t-0.570240181191101\r\n",
      "scaffold1\t52741\t52798\t-0.631246435590896\r\n",
      "scaffold1\t52851\t52916\t-0.647357503394735\r\n",
      "scaffold1\t52996\t53057\t-0.657527480568186\r\n",
      "scaffold1\t53101\t53153\t-1.04675017188359\r\n",
      "scaffold1\t53241\t53291\t-0.676510028159182\r\n",
      "scaffold1\t53351\t53406\t-0.474668524468244\r\n",
      "\r\n",
      "==> ./data/2014.07.02.colson/genomeBrowserTracks/logFC_HS-preHS/2014.07.02.2M_sig.bedGraph <==\r\n",
      "track type=bedGraph name=\"2M_sig\" description=\"2M_sig\" visibility=full color=100,100,0 altColor=0,100,200 priority=20\r\n",
      "scaffold1\t163391\t163444\t-1.19635354862016\r\n",
      "scaffold1\t167390\t167448\t-1.34858424227208\r\n",
      "scaffold1\t177036\t177092\t-1.32513261026528\r\n",
      "scaffold1\t180263\t180313\t-1.59644601437398\r\n",
      "scaffold1\t184151\t184202\t-1.36802539236446\r\n",
      "scaffold1\t207852\t207911\t-1.4489540693628\r\n",
      "scaffold1\t221645\t221697\t-1.19168816975966\r\n",
      "scaffold100\t20261\t20311\t-1.38705592724581\r\n",
      "scaffold100\t43707\t43766\t-1.94554287545546\r\n",
      "\r\n",
      "==> ./data/2014.07.02.colson/genomeBrowserTracks/logFC_HS-preHS/2014.07.02.4M.bedGraph <==\r\n",
      "track type=bedGraph name=\"4M\" description=\"4M\" visibility=full color=100,100,0 altColor=0,100,200 priority=20\r\n",
      "scaffold1\t52347\t52397\t-0.607382638604216\r\n",
      "scaffold1\t52472\t52522\t-0.517778984565597\r\n",
      "scaffold1\t52597\t52650\t-0.614441888334089\r\n",
      "scaffold1\t52741\t52798\t-1.0125546293844\r\n",
      "scaffold1\t52851\t52916\t0.170736223516649\r\n",
      "scaffold1\t52996\t53057\t-1.05130751246805\r\n",
      "scaffold1\t53101\t53153\t-0.793057755493946\r\n",
      "scaffold1\t53241\t53291\t-0.661392663616478\r\n",
      "scaffold1\t53351\t53406\t-0.643892831771129\r\n",
      "\r\n",
      "==> ./data/2014.07.02.colson/genomeBrowserTracks/logFC_HS-preHS/2014.07.02.4M_sig.bedGraph <==\r\n",
      "track type=bedGraph name=\"4M_sig\" description=\"4M_sig\" visibility=full color=100,100,0 altColor=0,100,200 priority=20\r\n",
      "scaffold1\t55723\t55780\t-1.14983078196614\r\n",
      "scaffold1\t162896\t162952\t1.31051906307266\r\n",
      "scaffold1\t165162\t165215\t-1.24601772855566\r\n",
      "scaffold1\t171392\t171453\t-1.22260744814979\r\n",
      "scaffold1\t174020\t174073\t1.13065801555915\r\n",
      "scaffold1\t174287\t174343\t-1.69319890151177\r\n",
      "scaffold1\t176273\t176334\t-1.72785163633438\r\n",
      "scaffold1\t178210\t178267\t1.2199265031441\r\n",
      "scaffold1\t183256\t183318\t-1.30551922539134\r\n",
      "\r\n",
      "==> ./data/2014.07.02.colson/genomeBrowserTracks/logFC_HS-preHS/2014.07.02.6M.bedGraph <==\r\n",
      "track type=bedGraph name=\"6M\" description=\"6M\" visibility=full color=100,100,0 altColor=0,100,200 priority=20\r\n",
      "scaffold1\t52347\t52397\t-0.445639866598264\r\n",
      "scaffold1\t52472\t52522\t-0.0688012470051458\r\n",
      "scaffold1\t52597\t52650\t-0.0587539333226483\r\n",
      "scaffold1\t52741\t52798\t-0.117394256248887\r\n",
      "scaffold1\t52851\t52916\t0.106790241643465\r\n",
      "scaffold1\t52996\t53057\t-0.947285682260127\r\n",
      "scaffold1\t53101\t53153\t-0.40187966219701\r\n",
      "scaffold1\t53241\t53291\t-0.218378761377913\r\n",
      "scaffold1\t53351\t53406\t-0.260193541648929\r\n",
      "\r\n",
      "==> ./data/2014.07.02.colson/genomeBrowserTracks/logFC_HS-preHS/2014.07.02.6M_sig.bedGraph <==\r\n",
      "track type=bedGraph name=\"6M_sig\" description=\"6M_sig\" visibility=full color=100,100,0 altColor=0,100,200 priority=20\r\n",
      "scaffold1\t54599\t54654\t-1.38187662416007\r\n",
      "scaffold1\t162129\t162191\t1.85685479189849\r\n",
      "scaffold1\t163536\t163586\t-1.15032035523765\r\n",
      "scaffold1\t172654\t172714\t1.33561271440876\r\n",
      "scaffold1\t174287\t174343\t-1.62903936976887\r\n",
      "scaffold1\t178075\t178128\t1.42323539316231\r\n",
      "scaffold1\t178685\t178740\t1.30886296151914\r\n",
      "scaffold1\t184271\t184330\t-1.20699853451878\r\n",
      "scaffold1\t184661\t184715\t-1.61107459826899\r\n"
     ]
    }
   ],
   "source": [
    "!head ./data/2014.07.02.colson/genomeBrowserTracks/logFC_HS-preHS/*"
   ]
  },
  {
   "cell_type": "code",
   "execution_count": null,
   "metadata": {
    "collapsed": true
   },
   "outputs": [],
   "source": []
  },
  {
   "cell_type": "code",
   "execution_count": null,
   "metadata": {
    "collapsed": true
   },
   "outputs": [],
   "source": []
  },
  {
   "cell_type": "code",
   "execution_count": 2,
   "metadata": {
    "collapsed": false
   },
   "outputs": [
    {
     "name": "stdout",
     "output_type": "stream",
     "text": [
      "  697753 ./data/2014.07.02.colson/genomeBrowserTracks/logFC_HS-preHS/2014.07.02.2M.bedGraph\n",
      "   10028 ./data/2014.07.02.colson/genomeBrowserTracks/logFC_HS-preHS/2014.07.02.2M_sig.bedGraph\n",
      "  697753 ./data/2014.07.02.colson/genomeBrowserTracks/logFC_HS-preHS/2014.07.02.4M.bedGraph\n",
      "   10148 ./data/2014.07.02.colson/genomeBrowserTracks/logFC_HS-preHS/2014.07.02.4M_sig.bedGraph\n",
      "  697753 ./data/2014.07.02.colson/genomeBrowserTracks/logFC_HS-preHS/2014.07.02.6M.bedGraph\n",
      "   11690 ./data/2014.07.02.colson/genomeBrowserTracks/logFC_HS-preHS/2014.07.02.6M_sig.bedGraph\n",
      " 2125125 total\n"
     ]
    }
   ],
   "source": [
    "!wc -l ./data/2014.07.02.colson/genomeBrowserTracks/logFC_HS-preHS/*"
   ]
  },
  {
   "cell_type": "code",
   "execution_count": 3,
   "metadata": {
    "collapsed": false
   },
   "outputs": [
    {
     "name": "stdout",
     "output_type": "stream",
     "text": [
      "./data/2014.07.02.colson/genomeBrowserTracks/logFC_HS-preHS/2014.07.02.2M.bedGraph:338556\n",
      "./data/2014.07.02.colson/genomeBrowserTracks/logFC_HS-preHS/2014.07.02.2M_sig.bedGraph:7224\n",
      "./data/2014.07.02.colson/genomeBrowserTracks/logFC_HS-preHS/2014.07.02.4M.bedGraph:344889\n",
      "./data/2014.07.02.colson/genomeBrowserTracks/logFC_HS-preHS/2014.07.02.4M_sig.bedGraph:6560\n",
      "./data/2014.07.02.colson/genomeBrowserTracks/logFC_HS-preHS/2014.07.02.6M.bedGraph:340387\n",
      "./data/2014.07.02.colson/genomeBrowserTracks/logFC_HS-preHS/2014.07.02.6M_sig.bedGraph:7645\n"
     ]
    }
   ],
   "source": [
    "!fgrep \"-\" -c ./data/2014.07.02.colson/genomeBrowserTracks/logFC_HS-preHS/*"
   ]
  },
  {
   "cell_type": "code",
   "execution_count": 2,
   "metadata": {
    "collapsed": false
   },
   "outputs": [
    {
     "name": "stdout",
     "output_type": "stream",
     "text": [
      "==> ./data/2014.06.20.gt1.8_gt3adjactentProbes.gff <==\r\n",
      "scaffold100\tOysterV9\tprobes\t636974\t637034\t1\t.\t.\tscaffold100:+:636974\r",
      "\r\n",
      "scaffold100\tOysterV9\tprobes\t637084\t637143\t1\t.\t.\tscaffold100:+:637084\r",
      "\r\n",
      "scaffold100\tOysterV9\tprobes\t637209\t637276\t1\t.\t.\tscaffold100:+:637209\r",
      "\r\n",
      "scaffold102\tOysterV9\tprobes\t303196\t303251\t1\t.\t.\tscaffold102:+:303196\r",
      "\r\n",
      "scaffold102\tOysterV9\tprobes\t303336\t303394\t1\t.\t.\tscaffold102:+:303336\r",
      "\r\n",
      "scaffold102\tOysterV9\tprobes\t303521\t303576\t1\t.\t.\tscaffold102:+:303521\r",
      "\r\n",
      "scaffold1032\tOysterV9\tprobes\t634021\t634085\t1\t.\t.\tscaffold1032:+:634021\r",
      "\r\n",
      "scaffold1032\tOysterV9\tprobes\t634156\t634218\t1\t.\t.\tscaffold1032:+:634156\r",
      "\r\n",
      "scaffold1032\tOysterV9\tprobes\t634281\t634333\t1\t.\t.\tscaffold1032:+:634281\r",
      "\r\n",
      "scaffold1032\tOysterV9\tprobes\t700173\t700230\t1\t.\t.\tscaffold1032:+:700173\r",
      "\r\n",
      "\r\n",
      "==> ./data/2014.06.20.lt1.8_gt3adjactentProbes.gff <==\r\n",
      "scaffold100\tOysterV9\tprobes\t804272\t804322\t1\t.\t.\tscaffold100:+:804272\r",
      "\r\n",
      "scaffold100\tOysterV9\tprobes\t804407\t804457\t1\t.\t.\tscaffold100:+:804407\r",
      "\r\n",
      "scaffold100\tOysterV9\tprobes\t804532\t804582\t1\t.\t.\tscaffold100:+:804532\r",
      "\r\n",
      "scaffold100\tOysterV9\tprobes\t804652\t804703\t1\t.\t.\tscaffold100:+:804652\r",
      "\r\n",
      "scaffold100\tOysterV9\tprobes\t804787\t804844\t1\t.\t.\tscaffold100:+:804787\r",
      "\r\n",
      "scaffold100\tOysterV9\tprobes\t804897\t804960\t1\t.\t.\tscaffold100:+:804897\r",
      "\r\n",
      "scaffold100\tOysterV9\tprobes\t805157\t805213\t1\t.\t.\tscaffold100:+:805157\r",
      "\r\n",
      "scaffold100\tOysterV9\tprobes\t805287\t805337\t1\t.\t.\tscaffold100:+:805287\r",
      "\r\n",
      "scaffold100\tOysterV9\tprobes\t805402\t805452\t1\t.\t.\tscaffold100:+:805402\r",
      "\r\n",
      "scaffold1016\tOysterV9\tprobes\t202657\t202722\t1\t.\t.\tscaffold1016:+:202657\r",
      "\r\n"
     ]
    }
   ],
   "source": [
    "\n",
    "!head ./data/2014.06.20*"
   ]
  },
  {
   "cell_type": "code",
   "execution_count": 4,
   "metadata": {
    "collapsed": false
   },
   "outputs": [
    {
     "name": "stdout",
     "output_type": "stream",
     "text": [
      "     164 ./data/2014.06.20.gt1.8_gt3adjactentProbes.gff\r\n",
      "     362 ./data/2014.06.20.lt1.8_gt3adjactentProbes.gff\r\n",
      "     526 total\r\n"
     ]
    }
   ],
   "source": [
    "!wc -l ./data/2014.06.20*"
   ]
  },
  {
   "cell_type": "code",
   "execution_count": 5,
   "metadata": {
    "collapsed": false
   },
   "outputs": [
    {
     "name": "stdout",
     "output_type": "stream",
     "text": [
      "scaffold100\tOysterV9\tprobes\t804272\t804322\t1\t.\t.\tscaffold100:+:804272\r",
      "\r\n",
      "scaffold100\tOysterV9\tprobes\t804407\t804457\t1\t.\t.\tscaffold100:+:804407\r",
      "\r\n",
      "scaffold100\tOysterV9\tprobes\t804532\t804582\t1\t.\t.\tscaffold100:+:804532\r",
      "\r\n",
      "scaffold100\tOysterV9\tprobes\t804652\t804703\t1\t.\t.\tscaffold100:+:804652\r",
      "\r\n",
      "scaffold100\tOysterV9\tprobes\t804787\t804844\t1\t.\t.\tscaffold100:+:804787\r",
      "\r\n",
      "scaffold100\tOysterV9\tprobes\t804897\t804960\t1\t.\t.\tscaffold100:+:804897\r",
      "\r\n",
      "scaffold100\tOysterV9\tprobes\t805157\t805213\t1\t.\t.\tscaffold100:+:805157\r",
      "\r\n",
      "scaffold100\tOysterV9\tprobes\t805287\t805337\t1\t.\t.\tscaffold100:+:805287\r",
      "\r\n",
      "scaffold100\tOysterV9\tprobes\t805402\t805452\t1\t.\t.\tscaffold100:+:805402\r",
      "\r\n",
      "scaffold1016\tOysterV9\tprobes\t202657\t202722\t1\t.\t.\tscaffold1016:+:202657\r",
      "\r\n"
     ]
    }
   ],
   "source": [
    "!head ./data/2014.06.20.lt1.8_gt3adjactentProbes.gff\n"
   ]
  },
  {
   "cell_type": "markdown",
   "metadata": {},
   "source": [
    "# Merging Adjacent "
   ]
  },
  {
   "cell_type": "code",
   "execution_count": 20,
   "metadata": {
    "collapsed": false
   },
   "outputs": [
    {
     "name": "stdout",
     "output_type": "stream",
     "text": [
      "     111\r\n"
     ]
    }
   ],
   "source": [
    "!bedtools merge -d 100 -i ./data/2014.06.20.lt1.8_gt3adjactentProbes.gff | wc -l\n",
    "\n"
   ]
  },
  {
   "cell_type": "code",
   "execution_count": 21,
   "metadata": {
    "collapsed": false
   },
   "outputs": [
    {
     "name": "stdout",
     "output_type": "stream",
     "text": [
      "      54\r\n"
     ]
    }
   ],
   "source": [
    "!bedtools merge -d 100 -i ./data/2014.06.20.gt1.8_gt3adjactentProbes.gff | wc -l\n",
    "\n"
   ]
  },
  {
   "cell_type": "code",
   "execution_count": 26,
   "metadata": {
    "collapsed": false
   },
   "outputs": [
    {
     "name": "stdout",
     "output_type": "stream",
     "text": [
      "      12 ./data/2014.07.02.colson/genomeBrowserTracks/threeOrMoreAdjacentSigProbes/2014.07.02.2M_Hyper_3plusAdjactentProbes.gff\r\n",
      "     310 ./data/2014.07.02.colson/genomeBrowserTracks/threeOrMoreAdjacentSigProbes/2014.07.02.2M_Hypo_3plusAdjactentProbes.gff\r\n",
      "      31 ./data/2014.07.02.colson/genomeBrowserTracks/threeOrMoreAdjacentSigProbes/2014.07.02.4M_Hyper_3plusAdjactentProbes.gff\r\n",
      "     127 ./data/2014.07.02.colson/genomeBrowserTracks/threeOrMoreAdjacentSigProbes/2014.07.02.4M_Hypo_3plusAdjactentProbes.gff\r\n",
      "      18 ./data/2014.07.02.colson/genomeBrowserTracks/threeOrMoreAdjacentSigProbes/2014.07.02.6M_Hyper_3plusAdjactentProbes.gff\r\n",
      "     108 ./data/2014.07.02.colson/genomeBrowserTracks/threeOrMoreAdjacentSigProbes/2014.07.02.6M_Hypo_3plusAdjactentProbes.gff\r\n",
      "     606 total\r\n"
     ]
    }
   ],
   "source": [
    "!wc -l  ./data/2014.07.02.colson/genomeBrowserTracks/threeOrMoreAdjacentSigProbes/2014.07.02.*\n"
   ]
  },
  {
   "cell_type": "code",
   "execution_count": 31,
   "metadata": {
    "collapsed": false
   },
   "outputs": [
    {
     "name": "stdout",
     "output_type": "stream",
     "text": [
      "./data/2014.07.02.colson/genomeBrowserTracks/threeOrMoreAdjacentSigProbes/2014.07.02.2M_Hyper_3plusAdjactentProbes.gff\n",
      "       4\n",
      "./data/2014.07.02.colson/genomeBrowserTracks/threeOrMoreAdjacentSigProbes/2014.07.02.2M_Hypo_3plusAdjactentProbes.gff\n",
      "     108\n",
      "./data/2014.07.02.colson/genomeBrowserTracks/threeOrMoreAdjacentSigProbes/2014.07.02.4M_Hyper_3plusAdjactentProbes.gff\n",
      "      10\n",
      "./data/2014.07.02.colson/genomeBrowserTracks/threeOrMoreAdjacentSigProbes/2014.07.02.4M_Hypo_3plusAdjactentProbes.gff\n",
      "      48\n",
      "./data/2014.07.02.colson/genomeBrowserTracks/threeOrMoreAdjacentSigProbes/2014.07.02.6M_Hyper_3plusAdjactentProbes.gff\n",
      "       9\n",
      "./data/2014.07.02.colson/genomeBrowserTracks/threeOrMoreAdjacentSigProbes/2014.07.02.6M_Hypo_3plusAdjactentProbes.gff\n",
      "      53\n"
     ]
    }
   ],
   "source": [
    "%%bash\n",
    "for f in ./data/2014.07.02.colson/genomeBrowserTracks/threeOrMoreAdjacentSigProbes/2014.07.02.*\n",
    "do\n",
    "echo $f\n",
    "bedtools merge -d 100 -i $f | wc -l\n",
    "done\n",
    "\n",
    "\n",
    "\n"
   ]
  },
  {
   "cell_type": "markdown",
   "metadata": {},
   "source": [
    "# Creating Merged Features 3plus"
   ]
  },
  {
   "cell_type": "code",
   "execution_count": 14,
   "metadata": {
    "collapsed": false
   },
   "outputs": [
    {
     "name": "stdout",
     "output_type": "stream",
     "text": [
      "     310 ./data/2014.07.02.colson/genomeBrowserTracks/threeOrMoreAdjacentSigProbes/2014.07.02.2M_Hypo_3plusAdjactentProbes.gff\r\n"
     ]
    }
   ],
   "source": [
    "!wc -l ./data/2014.07.02.colson/genomeBrowserTracks/threeOrMoreAdjacentSigProbes/2014.07.02.2M_Hypo_3plusAdjactentProbes.gff"
   ]
  },
  {
   "cell_type": "code",
   "execution_count": 36,
   "metadata": {
    "collapsed": false
   },
   "outputs": [
    {
     "name": "stdout",
     "output_type": "stream",
     "text": [
      "scaffold1016\t249436\t249737\n",
      "scaffold1041\t199217\t199498\n",
      "scaffold1188\t461425\t461738\n",
      "scaffold12\t243960\t244376\n",
      "scaffold1210\t165042\t165474\n",
      "scaffold1235\t26466\t26785\n",
      "scaffold1255\t198376\t198802\n",
      "scaffold1307\t652152\t652606\n",
      "scaffold1322\t409152\t409472\n",
      "scaffold1367\t121175\t121233\n",
      "     108 ./analyses/2M_3plusmerge_Hypo.gff\n"
     ]
    }
   ],
   "source": [
    "!bedtools merge -d 100 -i \\\n",
    "./data/2014.07.02.colson/genomeBrowserTracks/threeOrMoreAdjacentSigProbes/2014.07.02.2M_Hypo_3plusAdjactentProbes.gff \\\n",
    "> ./analyses/2M_3plusmerge_Hypo.gff \n",
    "!head ./analyses/2M_3plusmerge_Hypo.gff \n",
    "!wc -l ./analyses/2M_3plusmerge_Hypo.gff \n"
   ]
  },
  {
   "cell_type": "code",
   "execution_count": 37,
   "metadata": {
    "collapsed": false
   },
   "outputs": [
    {
     "name": "stdout",
     "output_type": "stream",
     "text": [
      "scaffold1583\t976276\t976596\n",
      "scaffold257\t1235165\t1235481\n",
      "scaffold43954\t139271\t139589\n",
      "scaffold801\t338541\t338853\n",
      "       4 ./analyses/2M_3plusmerge_Hyper.gff\n"
     ]
    }
   ],
   "source": [
    "!bedtools merge -d 100 -i \\\n",
    "./data/2014.07.02.colson/genomeBrowserTracks/threeOrMoreAdjacentSigProbes/2014.07.02.2M_Hyper_3plusAdjactentProbes.gff \\\n",
    "> ./analyses/2M_3plusmerge_Hyper.gff \n",
    "!head ./analyses/2M_3plusmerge_Hyper.gff \n",
    "!wc -l ./analyses/2M_3plusmerge_Hyper.gff "
   ]
  },
  {
   "cell_type": "code",
   "execution_count": 38,
   "metadata": {
    "collapsed": false
   },
   "outputs": [
    {
     "name": "stdout",
     "output_type": "stream",
     "text": [
      "scaffold100\t804406\t804960\n",
      "scaffold1018\t367127\t367319\n",
      "scaffold1018\t367618\t367674\n",
      "scaffold1077\t401205\t401534\n",
      "scaffold12\t244080\t244376\n",
      "scaffold1324\t356489\t356781\n",
      "scaffold1409\t139329\t139505\n",
      "scaffold1409\t139629\t139680\n",
      "scaffold142\t656144\t656460\n",
      "scaffold1484\t346442\t346623\n",
      "      48 ./analyses/4M_3plusmerge_Hypo.gff\n"
     ]
    }
   ],
   "source": [
    "!bedtools merge -d 100 -i \\\n",
    "./data/2014.07.02.colson/genomeBrowserTracks/threeOrMoreAdjacentSigProbes/2014.07.02.4M_Hypo_3plusAdjactentProbes.gff \\\n",
    "> ./analyses/4M_3plusmerge_Hypo.gff \n",
    "!head ./analyses/4M_3plusmerge_Hypo.gff \n",
    "!wc -l ./analyses/4M_3plusmerge_Hypo.gff "
   ]
  },
  {
   "cell_type": "code",
   "execution_count": 39,
   "metadata": {
    "collapsed": false
   },
   "outputs": [
    {
     "name": "stdout",
     "output_type": "stream",
     "text": [
      "scaffold1241\t28111\t28419\n",
      "scaffold1447\t305772\t306206\n",
      "scaffold1805\t257176\t257496\n",
      "scaffold257\t1235165\t1235481\n",
      "scaffold40230\t41604\t41898\n",
      "scaffold41982\t74367\t74671\n",
      "scaffold63\t426683\t426993\n",
      "scaffold70\t774778\t775094\n",
      "scaffold801\t338037\t338345\n",
      "scaffold801\t339443\t339729\n",
      "      10 ./analyses/4M_3plusmerge_Hyper.gff\n"
     ]
    }
   ],
   "source": [
    "!bedtools merge -d 100 -i \\\n",
    "./data/2014.07.02.colson/genomeBrowserTracks/threeOrMoreAdjacentSigProbes/2014.07.02.4M_Hyper_3plusAdjactentProbes.gff \\\n",
    "> ./analyses/4M_3plusmerge_Hyper.gff \n",
    "!head ./analyses/4M_3plusmerge_Hyper.gff \n",
    "!wc -l ./analyses/4M_3plusmerge_Hyper.gff "
   ]
  },
  {
   "cell_type": "code",
   "execution_count": 40,
   "metadata": {
    "collapsed": false
   },
   "outputs": [
    {
     "name": "stdout",
     "output_type": "stream",
     "text": [
      "scaffold101\t610174\t610236\n",
      "scaffold101\t610559\t610740\n",
      "scaffold1123\t40268\t40589\n",
      "scaffold1204\t66531\t66832\n",
      "scaffold1235\t34089\t34268\n",
      "scaffold1235\t34383\t34443\n",
      "scaffold1249\t494779\t495082\n",
      "scaffold1264\t68697\t69025\n",
      "scaffold1493\t16031\t16478\n",
      "scaffold1719\t330025\t330079\n",
      "      53 ./analyses/6M_3plusmerge_Hypo.gff\n"
     ]
    }
   ],
   "source": [
    "!bedtools merge -d 100 -i \\\n",
    "./data/2014.07.02.colson/genomeBrowserTracks/threeOrMoreAdjacentSigProbes/2014.07.02.6M_Hypo_3plusAdjactentProbes.gff \\\n",
    "> ./analyses/6M_3plusmerge_Hypo.gff \n",
    "!head ./analyses/6M_3plusmerge_Hypo.gff \n",
    "!wc -l ./analyses/6M_3plusmerge_Hypo.gff "
   ]
  },
  {
   "cell_type": "code",
   "execution_count": 41,
   "metadata": {
    "collapsed": false
   },
   "outputs": [
    {
     "name": "stdout",
     "output_type": "stream",
     "text": [
      "scaffold1737\t485256\t485565\n",
      "scaffold1894\t222981\t223032\n",
      "scaffold1894\t223601\t223653\n",
      "scaffold1894\t224777\t224838\n",
      "scaffold392\t326519\t326818\n",
      "scaffold433\t204898\t205194\n",
      "scaffold544\t44676\t44853\n",
      "scaffold544\t45028\t45086\n",
      "scaffold854\t353009\t353316\n",
      "       9 ./analyses/6M_3plusmerge_Hyper.gff\n"
     ]
    }
   ],
   "source": [
    "!bedtools merge -d 100 -i \\\n",
    "./data/2014.07.02.colson/genomeBrowserTracks/threeOrMoreAdjacentSigProbes/2014.07.02.6M_Hyper_3plusAdjactentProbes.gff \\\n",
    "> ./analyses/6M_3plusmerge_Hyper.gff \n",
    "!head ./analyses/6M_3plusmerge_Hyper.gff \n",
    "!wc -l /analyses/6M_3plusmerge_Hyper.gff "
   ]
  },
  {
   "cell_type": "code",
   "execution_count": 45,
   "metadata": {
    "collapsed": false
   },
   "outputs": [
    {
     "name": "stdout",
     "output_type": "stream",
     "text": [
      "./analyses/2M_3plusmerge_Hyper.gff ./analyses/4M_3plusmerge_Hypo.gff\r\n",
      "./analyses/2M_3plusmerge_Hypo.gff  ./analyses/6M_3plusmerge_Hyper.gff\r\n",
      "./analyses/4M_3plusmerge_Hyper.gff ./analyses/6M_3plusmerge_Hypo.gff\r\n"
     ]
    }
   ],
   "source": [
    "!ls ./analyses/[2-6]*.gff"
   ]
  },
  {
   "cell_type": "code",
   "execution_count": 3,
   "metadata": {
    "collapsed": false
   },
   "outputs": [
    {
     "name": "stdout",
     "output_type": "stream",
     "text": [
      "   3 scaffold622\r\n",
      "   3 scaffold801\r\n",
      "   4 scaffold1737\r\n",
      "   4 scaffold1895\r\n",
      "   4 scaffold521\r\n",
      "   4 scaffold542\r\n",
      "   4 scaffold616\r\n",
      "   5 scaffold247\r\n",
      "   5 scaffold40404\r\n",
      "   7 scaffold406\r\n"
     ]
    }
   ],
   "source": [
    "!cat ./analyses/[2-6]*.gff | cut -f1 | sort | uniq -c | sort | tail"
   ]
  },
  {
   "cell_type": "markdown",
   "metadata": {},
   "source": [
    "# Check to see how this was done"
   ]
  },
  {
   "cell_type": "code",
   "execution_count": 4,
   "metadata": {
    "collapsed": false
   },
   "outputs": [
    {
     "name": "stdout",
     "output_type": "stream",
     "text": [
      "track type=bedGraph name=\"6M_sig\" description=\"6M_sig\" visibility=full color=100,100,0 altColor=0,100,200 priority=20\r\n",
      "scaffold1\t54599\t54654\t-1.38187662416007\r\n",
      "scaffold1\t162129\t162191\t1.85685479189849\r\n",
      "scaffold1\t163536\t163586\t-1.15032035523765\r\n",
      "scaffold1\t172654\t172714\t1.33561271440876\r\n",
      "scaffold1\t174287\t174343\t-1.62903936976887\r\n",
      "scaffold1\t178075\t178128\t1.42323539316231\r\n",
      "scaffold1\t178685\t178740\t1.30886296151914\r\n",
      "scaffold1\t184271\t184330\t-1.20699853451878\r\n",
      "scaffold1\t184661\t184715\t-1.61107459826899\r\n"
     ]
    }
   ],
   "source": [
    "!head /Users/sr320/git-repos/paper-Temp-stress/ipynb/data/canonical/2014.07.02.6M_sig.bedGraph"
   ]
  },
  {
   "cell_type": "code",
   "execution_count": 5,
   "metadata": {
    "collapsed": false
   },
   "outputs": [
    {
     "name": "stdout",
     "output_type": "stream",
     "text": [
      "   11690   46764  509521 /Users/sr320/git-repos/paper-Temp-stress/ipynb/data/canonical/2014.07.02.6M_sig.bedGraph\r\n"
     ]
    }
   ],
   "source": [
    "!wc /Users/sr320/git-repos/paper-Temp-stress/ipynb/data/canonical/2014.07.02.6M_sig.bedGraph"
   ]
  },
  {
   "cell_type": "code",
   "execution_count": 12,
   "metadata": {
    "collapsed": false
   },
   "outputs": [
    {
     "name": "stdout",
     "output_type": "stream",
     "text": [
      "   10287\r\n"
     ]
    }
   ],
   "source": [
    "!bedtools merge -d 500 -i \\\n",
    "/Users/sr320/git-repos/paper-Temp-stress/ipynb/data/canonical/2014.07.02.6M_sig.bedGraph \\\n",
    "| wc -l"
   ]
  },
  {
   "cell_type": "code",
   "execution_count": null,
   "metadata": {
    "collapsed": false
   },
   "outputs": [],
   "source": []
  }
 ],
 "metadata": {
  "kernelspec": {
   "display_name": "Python 2",
   "language": "python",
   "name": "python2"
  },
  "language_info": {
   "codemirror_mode": {
    "name": "ipython",
    "version": 2
   },
   "file_extension": ".py",
   "mimetype": "text/x-python",
   "name": "python",
   "nbconvert_exporter": "python",
   "pygments_lexer": "ipython2",
   "version": "2.7.10"
  }
 },
 "nbformat": 4,
 "nbformat_minor": 0
}
