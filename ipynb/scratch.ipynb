{
 "cells": [
  {
   "cell_type": "code",
   "execution_count": 6,
   "metadata": {
    "collapsed": false
   },
   "outputs": [
    {
     "ename": "SyntaxError",
     "evalue": "invalid syntax (<ipython-input-6-39d947ddb079>, line 2)",
     "output_type": "error",
     "traceback": [
      "\u001b[0;36m  File \u001b[0;32m\"<ipython-input-6-39d947ddb079>\"\u001b[0;36m, line \u001b[0;32m2\u001b[0m\n\u001b[0;31m    ipython nbconvert --to FORMAT notebook.ipynb\u001b[0m\n\u001b[0m                    ^\u001b[0m\n\u001b[0;31mSyntaxError\u001b[0m\u001b[0;31m:\u001b[0m invalid syntax\n"
     ]
    }
   ],
   "source": [
    "%bash\n",
    "ipython nbconvert --to FORMAT notebook.ipynb"
   ]
  },
  {
   "cell_type": "code",
   "execution_count": 5,
   "metadata": {
    "collapsed": false
   },
   "outputs": [
    {
     "name": "stdout",
     "output_type": "stream",
     "text": [
      "scaffold1241\t28111\t28419\r\n",
      "scaffold1447\t305772\t306206\r\n",
      "scaffold1805\t257176\t257496\r\n",
      "scaffold257\t1235165\t1235481\r\n",
      "scaffold40230\t41604\t41898\r\n",
      "scaffold41982\t74367\t74671\r\n",
      "scaffold63\t426683\t426993\r\n",
      "scaffold70\t774778\t775094\r\n",
      "scaffold801\t338037\t338345\r\n",
      "scaffold801\t339443\t339729\r\n"
     ]
    }
   ],
   "source": [
    "!sort /Users/sr320/git-repos/paper-Temp-stress/ipynb/data/canonical/4M_3plusmerge_Hyper.bed"
   ]
  },
  {
   "cell_type": "code",
   "execution_count": null,
   "metadata": {
    "collapsed": false
   },
   "outputs": [],
   "source": []
  }
 ],
 "metadata": {
  "kernelspec": {
   "display_name": "Python 2",
   "language": "python",
   "name": "python2"
  },
  "language_info": {
   "codemirror_mode": {
    "name": "ipython",
    "version": 2
   },
   "file_extension": ".py",
   "mimetype": "text/x-python",
   "name": "python",
   "nbconvert_exporter": "python",
   "pygments_lexer": "ipython2",
   "version": "2.7.9"
  }
 },
 "nbformat": 4,
 "nbformat_minor": 0
}
